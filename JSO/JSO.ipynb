{
 "cells": [
  {
   "cell_type": "markdown",
   "metadata": {},
   "source": [
    "# (Quick) Introduction to [JuliaSmoothOptimizers](https://juliasmoothoptimizers.github.io) Packages"
   ]
  },
  {
   "cell_type": "markdown",
   "metadata": {},
   "source": [
    "## Modeling"
   ]
  },
  {
   "cell_type": "markdown",
   "metadata": {},
   "source": [
    "`NLPModels` represents continuous optimization problems in the form\n",
    "\\begin{align*}\n",
    "  \\text{minimize} & \\quad f(x) \\\\\n",
    "  \\text{subject to} & \\quad c_L \\leq c(x) \\leq c_U \\\\\n",
    "  & \\quad \\ell \\leq x \\leq u.\n",
    "\\end{align*}\n",
    "\n",
    "Problems can come from many different sources:\n",
    "* JuMP\n",
    "* CUTEst\n",
    "* AMPL\n",
    "* written by hand with derivatives written by hand\n",
    "* written by hand with derivatives computed by automatic differentiation"
   ]
  },
  {
   "cell_type": "code",
   "execution_count": null,
   "metadata": {},
   "outputs": [],
   "source": [
    "using NLPModels"
   ]
  },
  {
   "cell_type": "code",
   "execution_count": 2,
   "metadata": {},
   "outputs": [],
   "source": [
    "using NLPModelsJuMP, OptimizationProblems"
   ]
  },
  {
   "cell_type": "code",
   "execution_count": 3,
   "metadata": {},
   "outputs": [
    {
     "name": "stderr",
     "output_type": "stream",
     "text": [
      "WARNING: importing deprecated binding Base.gamma into ReverseDiffSparse.\n"
     ]
    }
   ],
   "source": [
    "model = MathProgNLPModel(hs97());"
   ]
  },
  {
   "cell_type": "code",
   "execution_count": 4,
   "metadata": {},
   "outputs": [
    {
     "name": "stdout",
     "output_type": "stream",
     "text": [
      "Minimization problem Generic\n",
      "nvar = 6, ncon = 4 (0 linear)\n",
      "lvar = 0.0   0.0   0.0   0.0  ⋯  0.0\n",
      "uvar = 0.31   0.046   0.068   0.042  ⋯  0.0134\n",
      "lcon = 0.0   0.0   0.0   0.0\n",
      "ucon = Inf   Inf   Inf   Inf\n",
      "x0 = 0.0   0.0   0.0   0.0  ⋯  0.0\n",
      "y0 = 0.0   0.0   0.0   0.0\n",
      "nnzh = 25\n",
      "nnzj = 20\n",
      "nonlinear constraints: 1   2   3   4\n"
     ]
    }
   ],
   "source": [
    "print(model.meta)"
   ]
  },
  {
   "cell_type": "code",
   "execution_count": 5,
   "metadata": {},
   "outputs": [],
   "source": [
    "x = model.meta.x0;"
   ]
  },
  {
   "cell_type": "code",
   "execution_count": 6,
   "metadata": {},
   "outputs": [
    {
     "data": {
      "text/plain": [
       "0.0"
      ]
     },
     "execution_count": 6,
     "metadata": {},
     "output_type": "execute_result"
    }
   ],
   "source": [
    "obj(model, x)"
   ]
  },
  {
   "cell_type": "code",
   "execution_count": 7,
   "metadata": {},
   "outputs": [
    {
     "data": {
      "text/plain": [
       "6-element Array{Float64,1}:\n",
       "  4.3\n",
       " 31.8\n",
       " 63.3\n",
       " 15.8\n",
       " 68.5\n",
       "  4.7"
      ]
     },
     "execution_count": 7,
     "metadata": {},
     "output_type": "execute_result"
    }
   ],
   "source": [
    "grad(model, x)  # derivatives are computed by JuMP"
   ]
  },
  {
   "cell_type": "code",
   "execution_count": 8,
   "metadata": {},
   "outputs": [
    {
     "data": {
      "text/plain": [
       "6×6 SparseArrays.SparseMatrixCSC{Float64,Int64} with 11 stored entries:\n",
       "  [1, 1]  =  0.0\n",
       "  [3, 1]  =  -308.0\n",
       "  [6, 1]  =  -14000.0\n",
       "  [3, 3]  =  0.0\n",
       "  [5, 3]  =  -3580.0\n",
       "  [4, 4]  =  0.0\n",
       "  [5, 4]  =  19740.0\n",
       "  [6, 4]  =  -35100.0\n",
       "  [5, 5]  =  0.0\n",
       "  [6, 5]  =  -41500.0\n",
       "  [6, 6]  =  0.0"
      ]
     },
     "execution_count": 8,
     "metadata": {},
     "output_type": "execute_result"
    }
   ],
   "source": [
    "hess(model, x, y=ones(model.meta.ncon))"
   ]
  },
  {
   "cell_type": "code",
   "execution_count": 9,
   "metadata": {},
   "outputs": [
    {
     "data": {
      "text/plain": [
       "4-element Array{Float64,1}:\n",
       " -32.97\n",
       " -25.12\n",
       "  29.08\n",
       "  78.02"
      ]
     },
     "execution_count": 9,
     "metadata": {},
     "output_type": "execute_result"
    }
   ],
   "source": [
    "cons(model, x)"
   ]
  },
  {
   "cell_type": "code",
   "execution_count": 10,
   "metadata": {},
   "outputs": [
    {
     "data": {
      "text/plain": [
       "4×6 SparseArrays.SparseMatrixCSC{Float64,Int64} with 20 stored entries:\n",
       "  [1, 1]  =  17.1\n",
       "  [2, 1]  =  17.9\n",
       "  [4, 1]  =  159.9\n",
       "  [1, 2]  =  38.2\n",
       "  [2, 2]  =  36.8\n",
       "  [3, 2]  =  -273.0\n",
       "  [4, 2]  =  -311.0\n",
       "  [1, 3]  =  204.2\n",
       "  [2, 3]  =  113.9\n",
       "  [1, 4]  =  212.3\n",
       "  [2, 4]  =  169.7\n",
       "  [3, 4]  =  -70.0\n",
       "  [4, 4]  =  587.0\n",
       "  [1, 5]  =  623.4\n",
       "  [2, 5]  =  337.8\n",
       "  [3, 5]  =  -819.0\n",
       "  [4, 5]  =  391.0\n",
       "  [1, 6]  =  1495.5\n",
       "  [2, 6]  =  1385.2\n",
       "  [4, 6]  =  2198.0"
      ]
     },
     "execution_count": 10,
     "metadata": {},
     "output_type": "execute_result"
    }
   ],
   "source": [
    "jac(model, x)"
   ]
  },
  {
   "cell_type": "markdown",
   "metadata": {},
   "source": [
    "### Creating Your Own Problem"
   ]
  },
  {
   "cell_type": "code",
   "execution_count": 11,
   "metadata": {},
   "outputs": [
    {
     "data": {
      "text/plain": [
       "ADNLPModel(Minimization problem Generic\n",
       "nvar = 2, ncon = 0 (0 linear)\n",
       ", Counters(0, 0, 0, 0, 0, 0, 0, 0, 0, 0, 0), f, getfield(NLPModels, Symbol(\"##77#80\"))())"
      ]
     },
     "execution_count": 11,
     "metadata": {},
     "output_type": "execute_result"
    }
   ],
   "source": [
    "f(x) = (x[1] - 1)^2 + 100*(x[2] - x[1]^2)^2\n",
    "x0 = [-1.2; 1.0]\n",
    "nlp = ADNLPModel(f, x0, lvar=zeros(2), uvar=[0.4; 0.6])  # a simple bound-constrained problem"
   ]
  },
  {
   "cell_type": "code",
   "execution_count": 12,
   "metadata": {},
   "outputs": [
    {
     "data": {
      "text/plain": [
       "2-element Array{Float64,1}:\n",
       " -215.59999999999997\n",
       "  -87.99999999999999"
      ]
     },
     "execution_count": 12,
     "metadata": {},
     "output_type": "execute_result"
    }
   ],
   "source": [
    "grad(nlp, x0)  # derivative computed by ForwardDiff"
   ]
  },
  {
   "cell_type": "markdown",
   "metadata": {},
   "source": [
    "### Accessing Existing Problem Collections"
   ]
  },
  {
   "cell_type": "code",
   "execution_count": 13,
   "metadata": {},
   "outputs": [
    {
     "name": "stderr",
     "output_type": "stream",
     "text": [
      "┌ Info: Recompiling stale cache file /Users/dpo/.julia/compiled/v0.7/CUTEst/tNzSS.ji for CUTEst [1b53aba6-35b6-5f92-a507-53c67d53f819]\n",
      "└ @ Base loading.jl:1185\n"
     ]
    }
   ],
   "source": [
    "using CUTEst"
   ]
  },
  {
   "cell_type": "code",
   "execution_count": 14,
   "metadata": {},
   "outputs": [
    {
     "data": {
      "text/plain": [
       "Minimization problem NCVXQP1\n",
       "nvar = 10000, ncon = 5000 (5000 linear)\n"
      ]
     },
     "execution_count": 14,
     "metadata": {},
     "output_type": "execute_result"
    }
   ],
   "source": [
    "model = CUTEstModel(\"NCVXQP1.SIF\")"
   ]
  },
  {
   "cell_type": "code",
   "execution_count": 15,
   "metadata": {},
   "outputs": [
    {
     "data": {
      "text/plain": [
       "\u001b[37m                      Sparsity Pattern\u001b[39m\n",
       "\u001b[37m         ┌──────────────────────────────────────────┐\u001b[39m    \n",
       "       \u001b[37m1\u001b[39m\u001b[37m │\u001b[39m\u001b[35m⢷\u001b[39m\u001b[35m⣄\u001b[39m\u001b[37m⠀\u001b[39m\u001b[37m⠀\u001b[39m\u001b[37m⠀\u001b[39m\u001b[37m⠀\u001b[39m\u001b[37m⠀\u001b[39m\u001b[37m⠀\u001b[39m\u001b[37m⠀\u001b[39m\u001b[37m⠀\u001b[39m\u001b[37m⠀\u001b[39m\u001b[37m⠀\u001b[39m\u001b[37m⠀\u001b[39m\u001b[37m⠀\u001b[39m\u001b[37m⠀\u001b[39m\u001b[37m⠀\u001b[39m\u001b[37m⠀\u001b[39m\u001b[37m⠀\u001b[39m\u001b[37m⠀\u001b[39m\u001b[37m⠀\u001b[39m\u001b[37m⠀\u001b[39m\u001b[37m⠀\u001b[39m\u001b[37m⠀\u001b[39m\u001b[37m⠀\u001b[39m\u001b[37m⠀\u001b[39m\u001b[37m⠀\u001b[39m\u001b[37m⠀\u001b[39m\u001b[37m⠀\u001b[39m\u001b[37m⠀\u001b[39m\u001b[37m⠀\u001b[39m\u001b[37m⠀\u001b[39m\u001b[37m⠀\u001b[39m\u001b[37m⠀\u001b[39m\u001b[37m⠀\u001b[39m\u001b[37m⠀\u001b[39m\u001b[37m⠀\u001b[39m\u001b[37m⠀\u001b[39m\u001b[37m⠀\u001b[39m\u001b[37m⠀\u001b[39m\u001b[37m⠀\u001b[39m\u001b[37m⠀\u001b[39m\u001b[37m⠀\u001b[39m\u001b[37m│\u001b[39m \u001b[31m> 0\u001b[39m\n",
       "        \u001b[37m │\u001b[39m\u001b[31m⠘\u001b[39m\u001b[31m⣿\u001b[39m\u001b[35m⣕\u001b[39m\u001b[35m⢄\u001b[39m\u001b[37m⠀\u001b[39m\u001b[37m⠀\u001b[39m\u001b[37m⠀\u001b[39m\u001b[37m⠀\u001b[39m\u001b[37m⠀\u001b[39m\u001b[37m⠀\u001b[39m\u001b[37m⠀\u001b[39m\u001b[37m⠀\u001b[39m\u001b[37m⠀\u001b[39m\u001b[37m⠀\u001b[39m\u001b[37m⠀\u001b[39m\u001b[37m⠀\u001b[39m\u001b[37m⠀\u001b[39m\u001b[37m⠀\u001b[39m\u001b[37m⠀\u001b[39m\u001b[37m⠀\u001b[39m\u001b[37m⠀\u001b[39m\u001b[37m⠀\u001b[39m\u001b[37m⠀\u001b[39m\u001b[37m⠀\u001b[39m\u001b[37m⠀\u001b[39m\u001b[37m⠀\u001b[39m\u001b[37m⠀\u001b[39m\u001b[37m⠀\u001b[39m\u001b[37m⠀\u001b[39m\u001b[37m⠀\u001b[39m\u001b[37m⠀\u001b[39m\u001b[37m⠀\u001b[39m\u001b[37m⠀\u001b[39m\u001b[37m⠀\u001b[39m\u001b[37m⠀\u001b[39m\u001b[37m⠀\u001b[39m\u001b[37m⠀\u001b[39m\u001b[37m⠀\u001b[39m\u001b[37m⠀\u001b[39m\u001b[37m⠀\u001b[39m\u001b[37m⠀\u001b[39m\u001b[37m⠀\u001b[39m\u001b[37m│\u001b[39m \u001b[34m< 0\u001b[39m\n",
       "        \u001b[37m │\u001b[39m\u001b[37m⠀\u001b[39m\u001b[31m⢱\u001b[39m\u001b[31m⢫\u001b[39m\u001b[31m⢦\u001b[39m\u001b[35m⠑\u001b[39m\u001b[35m⢄\u001b[39m\u001b[37m⠀\u001b[39m\u001b[37m⠀\u001b[39m\u001b[37m⠀\u001b[39m\u001b[37m⠀\u001b[39m\u001b[37m⠀\u001b[39m\u001b[37m⠀\u001b[39m\u001b[37m⠀\u001b[39m\u001b[37m⠀\u001b[39m\u001b[37m⠀\u001b[39m\u001b[37m⠀\u001b[39m\u001b[37m⠀\u001b[39m\u001b[37m⠀\u001b[39m\u001b[37m⠀\u001b[39m\u001b[37m⠀\u001b[39m\u001b[37m⠀\u001b[39m\u001b[37m⠀\u001b[39m\u001b[37m⠀\u001b[39m\u001b[37m⠀\u001b[39m\u001b[37m⠀\u001b[39m\u001b[37m⠀\u001b[39m\u001b[37m⠀\u001b[39m\u001b[37m⠀\u001b[39m\u001b[37m⠀\u001b[39m\u001b[37m⠀\u001b[39m\u001b[37m⠀\u001b[39m\u001b[37m⠀\u001b[39m\u001b[37m⠀\u001b[39m\u001b[37m⠀\u001b[39m\u001b[37m⠀\u001b[39m\u001b[37m⠀\u001b[39m\u001b[37m⠀\u001b[39m\u001b[37m⠀\u001b[39m\u001b[37m⠀\u001b[39m\u001b[37m⠀\u001b[39m\u001b[37m⠀\u001b[39m\u001b[37m⠀\u001b[39m\u001b[37m│\u001b[39m    \n",
       "        \u001b[37m │\u001b[39m\u001b[37m⠀\u001b[39m\u001b[37m⠀\u001b[39m\u001b[31m⢇\u001b[39m\u001b[31m⢣\u001b[39m\u001b[31m⠳\u001b[39m\u001b[31m⡀\u001b[39m\u001b[35m⠑\u001b[39m\u001b[35m⢄\u001b[39m\u001b[37m⠀\u001b[39m\u001b[37m⠀\u001b[39m\u001b[37m⠀\u001b[39m\u001b[37m⠀\u001b[39m\u001b[37m⠀\u001b[39m\u001b[37m⠀\u001b[39m\u001b[37m⠀\u001b[39m\u001b[37m⠀\u001b[39m\u001b[37m⠀\u001b[39m\u001b[37m⠀\u001b[39m\u001b[37m⠀\u001b[39m\u001b[37m⠀\u001b[39m\u001b[37m⠀\u001b[39m\u001b[37m⠀\u001b[39m\u001b[37m⠀\u001b[39m\u001b[37m⠀\u001b[39m\u001b[37m⠀\u001b[39m\u001b[37m⠀\u001b[39m\u001b[37m⠀\u001b[39m\u001b[37m⠀\u001b[39m\u001b[37m⠀\u001b[39m\u001b[37m⠀\u001b[39m\u001b[37m⠀\u001b[39m\u001b[37m⠀\u001b[39m\u001b[37m⠀\u001b[39m\u001b[37m⠀\u001b[39m\u001b[37m⠀\u001b[39m\u001b[37m⠀\u001b[39m\u001b[37m⠀\u001b[39m\u001b[37m⠀\u001b[39m\u001b[37m⠀\u001b[39m\u001b[37m⠀\u001b[39m\u001b[37m⠀\u001b[39m\u001b[37m⠀\u001b[39m\u001b[37m│\u001b[39m    \n",
       "        \u001b[37m │\u001b[39m\u001b[37m⠀\u001b[39m\u001b[37m⠀\u001b[39m\u001b[31m⠘\u001b[39m\u001b[31m⡄\u001b[39m\u001b[31m⢣\u001b[39m\u001b[31m⠙\u001b[39m\u001b[31m⣄\u001b[39m\u001b[37m⠀\u001b[39m\u001b[35m⠑\u001b[39m\u001b[35m⢄\u001b[39m\u001b[37m⠀\u001b[39m\u001b[37m⠀\u001b[39m\u001b[37m⠀\u001b[39m\u001b[37m⠀\u001b[39m\u001b[37m⠀\u001b[39m\u001b[37m⠀\u001b[39m\u001b[37m⠀\u001b[39m\u001b[37m⠀\u001b[39m\u001b[37m⠀\u001b[39m\u001b[37m⠀\u001b[39m\u001b[37m⠀\u001b[39m\u001b[37m⠀\u001b[39m\u001b[37m⠀\u001b[39m\u001b[37m⠀\u001b[39m\u001b[37m⠀\u001b[39m\u001b[37m⠀\u001b[39m\u001b[37m⠀\u001b[39m\u001b[37m⠀\u001b[39m\u001b[37m⠀\u001b[39m\u001b[37m⠀\u001b[39m\u001b[37m⠀\u001b[39m\u001b[37m⠀\u001b[39m\u001b[37m⠀\u001b[39m\u001b[37m⠀\u001b[39m\u001b[37m⠀\u001b[39m\u001b[37m⠀\u001b[39m\u001b[37m⠀\u001b[39m\u001b[37m⠀\u001b[39m\u001b[37m⠀\u001b[39m\u001b[37m⠀\u001b[39m\u001b[37m⠀\u001b[39m\u001b[37m⠀\u001b[39m\u001b[37m│\u001b[39m    \n",
       "        \u001b[37m │\u001b[39m\u001b[37m⠀\u001b[39m\u001b[37m⠀\u001b[39m\u001b[37m⠀\u001b[39m\u001b[31m⢱\u001b[39m\u001b[37m⠀\u001b[39m\u001b[31m⢣\u001b[39m\u001b[31m⠈\u001b[39m\u001b[31m⢦\u001b[39m\u001b[37m⠀\u001b[39m\u001b[37m⠀\u001b[39m\u001b[35m⠑\u001b[39m\u001b[34m⢄\u001b[39m\u001b[37m⠀\u001b[39m\u001b[37m⠀\u001b[39m\u001b[37m⠀\u001b[39m\u001b[37m⠀\u001b[39m\u001b[37m⠀\u001b[39m\u001b[37m⠀\u001b[39m\u001b[37m⠀\u001b[39m\u001b[37m⠀\u001b[39m\u001b[37m⠀\u001b[39m\u001b[37m⠀\u001b[39m\u001b[37m⠀\u001b[39m\u001b[37m⠀\u001b[39m\u001b[37m⠀\u001b[39m\u001b[37m⠀\u001b[39m\u001b[37m⠀\u001b[39m\u001b[37m⠀\u001b[39m\u001b[37m⠀\u001b[39m\u001b[37m⠀\u001b[39m\u001b[37m⠀\u001b[39m\u001b[37m⠀\u001b[39m\u001b[37m⠀\u001b[39m\u001b[37m⠀\u001b[39m\u001b[37m⠀\u001b[39m\u001b[37m⠀\u001b[39m\u001b[37m⠀\u001b[39m\u001b[37m⠀\u001b[39m\u001b[37m⠀\u001b[39m\u001b[37m⠀\u001b[39m\u001b[37m⠀\u001b[39m\u001b[37m⠀\u001b[39m\u001b[37m│\u001b[39m    \n",
       "        \u001b[37m │\u001b[39m\u001b[37m⠀\u001b[39m\u001b[37m⠀\u001b[39m\u001b[37m⠀\u001b[39m\u001b[37m⠀\u001b[39m\u001b[31m⢇\u001b[39m\u001b[37m⠀\u001b[39m\u001b[31m⢣\u001b[39m\u001b[37m⠀\u001b[39m\u001b[31m⠳\u001b[39m\u001b[31m⡀\u001b[39m\u001b[37m⠀\u001b[39m\u001b[37m⠀\u001b[39m\u001b[34m⠑\u001b[39m\u001b[34m⢄\u001b[39m\u001b[37m⠀\u001b[39m\u001b[37m⠀\u001b[39m\u001b[37m⠀\u001b[39m\u001b[37m⠀\u001b[39m\u001b[37m⠀\u001b[39m\u001b[37m⠀\u001b[39m\u001b[37m⠀\u001b[39m\u001b[37m⠀\u001b[39m\u001b[37m⠀\u001b[39m\u001b[37m⠀\u001b[39m\u001b[37m⠀\u001b[39m\u001b[37m⠀\u001b[39m\u001b[37m⠀\u001b[39m\u001b[37m⠀\u001b[39m\u001b[37m⠀\u001b[39m\u001b[37m⠀\u001b[39m\u001b[37m⠀\u001b[39m\u001b[37m⠀\u001b[39m\u001b[37m⠀\u001b[39m\u001b[37m⠀\u001b[39m\u001b[37m⠀\u001b[39m\u001b[37m⠀\u001b[39m\u001b[37m⠀\u001b[39m\u001b[37m⠀\u001b[39m\u001b[37m⠀\u001b[39m\u001b[37m⠀\u001b[39m\u001b[37m⠀\u001b[39m\u001b[37m⠀\u001b[39m\u001b[37m│\u001b[39m    \n",
       "        \u001b[37m │\u001b[39m\u001b[34m⠙\u001b[39m\u001b[34m⠳\u001b[39m\u001b[34m⣖\u001b[39m\u001b[34m⠤\u001b[39m\u001b[35m⢜\u001b[39m\u001b[35m⣄\u001b[39m\u001b[37m⠀\u001b[39m\u001b[31m⢣\u001b[39m\u001b[37m⠀\u001b[39m\u001b[31m⠙\u001b[39m\u001b[31m⣄\u001b[39m\u001b[37m⠀\u001b[39m\u001b[37m⠀\u001b[39m\u001b[37m⠀\u001b[39m\u001b[34m⠑\u001b[39m\u001b[34m⢄\u001b[39m\u001b[37m⠀\u001b[39m\u001b[37m⠀\u001b[39m\u001b[37m⠀\u001b[39m\u001b[37m⠀\u001b[39m\u001b[37m⠀\u001b[39m\u001b[37m⠀\u001b[39m\u001b[37m⠀\u001b[39m\u001b[37m⠀\u001b[39m\u001b[37m⠀\u001b[39m\u001b[37m⠀\u001b[39m\u001b[37m⠀\u001b[39m\u001b[37m⠀\u001b[39m\u001b[37m⠀\u001b[39m\u001b[37m⠀\u001b[39m\u001b[37m⠀\u001b[39m\u001b[37m⠀\u001b[39m\u001b[37m⠀\u001b[39m\u001b[37m⠀\u001b[39m\u001b[37m⠀\u001b[39m\u001b[37m⠀\u001b[39m\u001b[37m⠀\u001b[39m\u001b[37m⠀\u001b[39m\u001b[37m⠀\u001b[39m\u001b[37m⠀\u001b[39m\u001b[37m⠀\u001b[39m\u001b[37m⠀\u001b[39m\u001b[37m│\u001b[39m    \n",
       "        \u001b[37m │\u001b[39m\u001b[37m⠀\u001b[39m\u001b[37m⠀\u001b[39m\u001b[37m⠀\u001b[39m\u001b[34m⠙\u001b[39m\u001b[34m⠲\u001b[39m\u001b[35m⣵\u001b[39m\u001b[34m⡉\u001b[39m\u001b[34m⠑\u001b[39m\u001b[35m⢳\u001b[39m\u001b[34m⠦\u001b[39m\u001b[35m⢬\u001b[39m\u001b[35m⣦\u001b[39m\u001b[34m⡀\u001b[39m\u001b[37m⠀\u001b[39m\u001b[37m⠀\u001b[39m\u001b[37m⠀\u001b[39m\u001b[34m⠑\u001b[39m\u001b[34m⢄\u001b[39m\u001b[37m⠀\u001b[39m\u001b[37m⠀\u001b[39m\u001b[37m⠀\u001b[39m\u001b[37m⠀\u001b[39m\u001b[37m⠀\u001b[39m\u001b[37m⠀\u001b[39m\u001b[37m⠀\u001b[39m\u001b[37m⠀\u001b[39m\u001b[37m⠀\u001b[39m\u001b[37m⠀\u001b[39m\u001b[37m⠀\u001b[39m\u001b[37m⠀\u001b[39m\u001b[37m⠀\u001b[39m\u001b[37m⠀\u001b[39m\u001b[37m⠀\u001b[39m\u001b[37m⠀\u001b[39m\u001b[37m⠀\u001b[39m\u001b[37m⠀\u001b[39m\u001b[37m⠀\u001b[39m\u001b[37m⠀\u001b[39m\u001b[37m⠀\u001b[39m\u001b[37m⠀\u001b[39m\u001b[37m⠀\u001b[39m\u001b[37m⠀\u001b[39m\u001b[37m│\u001b[39m    \n",
       "        \u001b[37m │\u001b[39m\u001b[37m⠀\u001b[39m\u001b[37m⠀\u001b[39m\u001b[37m⠀\u001b[39m\u001b[37m⠀\u001b[39m\u001b[37m⠀\u001b[39m\u001b[37m⠀\u001b[39m\u001b[35m⢟\u001b[39m\u001b[34m⠲\u001b[39m\u001b[34m⣄\u001b[39m\u001b[31m⢣\u001b[39m\u001b[37m⠀\u001b[39m\u001b[37m⠀\u001b[39m\u001b[35m⠻\u001b[39m\u001b[35m⡙\u001b[39m\u001b[34m⠒\u001b[39m\u001b[34m⠦\u001b[39m\u001b[34m⢤\u001b[39m\u001b[34m⣀\u001b[39m\u001b[34m⠑\u001b[39m\u001b[34m⢄\u001b[39m\u001b[37m⠀\u001b[39m\u001b[37m⠀\u001b[39m\u001b[37m⠀\u001b[39m\u001b[37m⠀\u001b[39m\u001b[37m⠀\u001b[39m\u001b[37m⠀\u001b[39m\u001b[37m⠀\u001b[39m\u001b[37m⠀\u001b[39m\u001b[37m⠀\u001b[39m\u001b[37m⠀\u001b[39m\u001b[37m⠀\u001b[39m\u001b[37m⠀\u001b[39m\u001b[37m⠀\u001b[39m\u001b[37m⠀\u001b[39m\u001b[37m⠀\u001b[39m\u001b[37m⠀\u001b[39m\u001b[37m⠀\u001b[39m\u001b[37m⠀\u001b[39m\u001b[37m⠀\u001b[39m\u001b[37m⠀\u001b[39m\u001b[37m⠀\u001b[39m\u001b[37m⠀\u001b[39m\u001b[37m│\u001b[39m    \n",
       "        \u001b[37m │\u001b[39m\u001b[34m⣤\u001b[39m\u001b[34m⣀\u001b[39m\u001b[37m⠀\u001b[39m\u001b[37m⠀\u001b[39m\u001b[37m⠀\u001b[39m\u001b[37m⠀\u001b[39m\u001b[31m⠘\u001b[39m\u001b[31m⡄\u001b[39m\u001b[37m⠀\u001b[39m\u001b[34m⠙\u001b[39m\u001b[35m⢣\u001b[39m\u001b[34m⣄\u001b[39m\u001b[37m⠀\u001b[39m\u001b[31m⠙\u001b[39m\u001b[31m⣄\u001b[39m\u001b[37m⠀\u001b[39m\u001b[37m⠀\u001b[39m\u001b[37m⠀\u001b[39m\u001b[34m⠉\u001b[39m\u001b[34m⠑\u001b[39m\u001b[34m⠓\u001b[39m\u001b[34m⣄\u001b[39m\u001b[37m⠀\u001b[39m\u001b[37m⠀\u001b[39m\u001b[37m⠀\u001b[39m\u001b[37m⠀\u001b[39m\u001b[37m⠀\u001b[39m\u001b[37m⠀\u001b[39m\u001b[37m⠀\u001b[39m\u001b[37m⠀\u001b[39m\u001b[37m⠀\u001b[39m\u001b[37m⠀\u001b[39m\u001b[37m⠀\u001b[39m\u001b[37m⠀\u001b[39m\u001b[37m⠀\u001b[39m\u001b[37m⠀\u001b[39m\u001b[37m⠀\u001b[39m\u001b[37m⠀\u001b[39m\u001b[37m⠀\u001b[39m\u001b[37m⠀\u001b[39m\u001b[37m⠀\u001b[39m\u001b[37m⠀\u001b[39m\u001b[37m│\u001b[39m    \n",
       "        \u001b[37m │\u001b[39m\u001b[34m⠈\u001b[39m\u001b[34m⢦\u001b[39m\u001b[34m⠉\u001b[39m\u001b[34m⠒\u001b[39m\u001b[34m⠤\u001b[39m\u001b[34m⣀\u001b[39m\u001b[37m⠀\u001b[39m\u001b[31m⢱\u001b[39m\u001b[37m⠀\u001b[39m\u001b[37m⠀\u001b[39m\u001b[37m⠀\u001b[39m\u001b[34m⢣\u001b[39m\u001b[34m⠙\u001b[39m\u001b[34m⠢\u001b[39m\u001b[35m⣌\u001b[39m\u001b[31m⢦\u001b[39m\u001b[37m⠀\u001b[39m\u001b[37m⠀\u001b[39m\u001b[37m⠀\u001b[39m\u001b[37m⠀\u001b[39m\u001b[37m⠀\u001b[39m\u001b[34m⢱\u001b[39m\u001b[34m⠑\u001b[39m\u001b[34m⢄\u001b[39m\u001b[37m⠀\u001b[39m\u001b[37m⠀\u001b[39m\u001b[37m⠀\u001b[39m\u001b[37m⠀\u001b[39m\u001b[37m⠀\u001b[39m\u001b[37m⠀\u001b[39m\u001b[37m⠀\u001b[39m\u001b[37m⠀\u001b[39m\u001b[37m⠀\u001b[39m\u001b[37m⠀\u001b[39m\u001b[37m⠀\u001b[39m\u001b[37m⠀\u001b[39m\u001b[37m⠀\u001b[39m\u001b[37m⠀\u001b[39m\u001b[37m⠀\u001b[39m\u001b[37m⠀\u001b[39m\u001b[37m⠀\u001b[39m\u001b[37m⠀\u001b[39m\u001b[37m│\u001b[39m    \n",
       "        \u001b[37m │\u001b[39m\u001b[37m⠀\u001b[39m\u001b[37m⠀\u001b[39m\u001b[34m⠳\u001b[39m\u001b[34m⡀\u001b[39m\u001b[37m⠀\u001b[39m\u001b[37m⠀\u001b[39m\u001b[34m⠉\u001b[39m\u001b[34m⠒\u001b[39m\u001b[35m⢧\u001b[39m\u001b[34m⣄\u001b[39m\u001b[34m⡀\u001b[39m\u001b[37m⠀\u001b[39m\u001b[34m⢣\u001b[39m\u001b[37m⠀\u001b[39m\u001b[37m⠀\u001b[39m\u001b[34m⠙\u001b[39m\u001b[35m⠳\u001b[39m\u001b[35m⣄\u001b[39m\u001b[37m⠀\u001b[39m\u001b[37m⠀\u001b[39m\u001b[37m⠀\u001b[39m\u001b[37m⠀\u001b[39m\u001b[34m⢇\u001b[39m\u001b[37m⠀\u001b[39m\u001b[34m⠑\u001b[39m\u001b[34m⢄\u001b[39m\u001b[37m⠀\u001b[39m\u001b[37m⠀\u001b[39m\u001b[37m⠀\u001b[39m\u001b[37m⠀\u001b[39m\u001b[37m⠀\u001b[39m\u001b[37m⠀\u001b[39m\u001b[37m⠀\u001b[39m\u001b[37m⠀\u001b[39m\u001b[37m⠀\u001b[39m\u001b[37m⠀\u001b[39m\u001b[37m⠀\u001b[39m\u001b[37m⠀\u001b[39m\u001b[37m⠀\u001b[39m\u001b[37m⠀\u001b[39m\u001b[37m⠀\u001b[39m\u001b[37m⠀\u001b[39m\u001b[37m│\u001b[39m    \n",
       "        \u001b[37m │\u001b[39m\u001b[34m⡀\u001b[39m\u001b[37m⠀\u001b[39m\u001b[37m⠀\u001b[39m\u001b[34m⠙\u001b[39m\u001b[34m⣄\u001b[39m\u001b[37m⠀\u001b[39m\u001b[37m⠀\u001b[39m\u001b[37m⠀\u001b[39m\u001b[31m⠘\u001b[39m\u001b[31m⡄\u001b[39m\u001b[34m⠉\u001b[39m\u001b[34m⠓\u001b[39m\u001b[34m⠦\u001b[39m\u001b[34m⣧\u001b[39m\u001b[34m⡀\u001b[39m\u001b[37m⠀\u001b[39m\u001b[37m⠀\u001b[39m\u001b[31m⠙\u001b[39m\u001b[35m⣝\u001b[39m\u001b[34m⠢\u001b[39m\u001b[34m⣄\u001b[39m\u001b[37m⠀\u001b[39m\u001b[34m⠘\u001b[39m\u001b[34m⡄\u001b[39m\u001b[37m⠀\u001b[39m\u001b[37m⠀\u001b[39m\u001b[34m⠑\u001b[39m\u001b[34m⢄\u001b[39m\u001b[37m⠀\u001b[39m\u001b[37m⠀\u001b[39m\u001b[37m⠀\u001b[39m\u001b[37m⠀\u001b[39m\u001b[37m⠀\u001b[39m\u001b[37m⠀\u001b[39m\u001b[37m⠀\u001b[39m\u001b[37m⠀\u001b[39m\u001b[37m⠀\u001b[39m\u001b[37m⠀\u001b[39m\u001b[37m⠀\u001b[39m\u001b[37m⠀\u001b[39m\u001b[37m⠀\u001b[39m\u001b[37m⠀\u001b[39m\u001b[37m│\u001b[39m    \n",
       "        \u001b[37m │\u001b[39m\u001b[34m⠙\u001b[39m\u001b[34m⠻\u001b[39m\u001b[34m⣖\u001b[39m\u001b[34m⠦\u001b[39m\u001b[34m⢬\u001b[39m\u001b[34m⣦\u001b[39m\u001b[34m⡀\u001b[39m\u001b[37m⠀\u001b[39m\u001b[37m⠀\u001b[39m\u001b[31m⢱\u001b[39m\u001b[37m⠀\u001b[39m\u001b[37m⠀\u001b[39m\u001b[37m⠀\u001b[39m\u001b[37m⠀\u001b[39m\u001b[34m⢫\u001b[39m\u001b[34m⠓\u001b[39m\u001b[34m⠦\u001b[39m\u001b[34m⣀\u001b[39m\u001b[31m⠈\u001b[39m\u001b[31m⢦\u001b[39m\u001b[37m⠀\u001b[39m\u001b[34m⠙\u001b[39m\u001b[34m⠢\u001b[39m\u001b[34m⣵\u001b[39m\u001b[37m⠀\u001b[39m\u001b[37m⠀\u001b[39m\u001b[37m⠀\u001b[39m\u001b[37m⠀\u001b[39m\u001b[34m⠑\u001b[39m\u001b[34m⢄\u001b[39m\u001b[37m⠀\u001b[39m\u001b[37m⠀\u001b[39m\u001b[37m⠀\u001b[39m\u001b[37m⠀\u001b[39m\u001b[37m⠀\u001b[39m\u001b[37m⠀\u001b[39m\u001b[37m⠀\u001b[39m\u001b[37m⠀\u001b[39m\u001b[37m⠀\u001b[39m\u001b[37m⠀\u001b[39m\u001b[37m⠀\u001b[39m\u001b[37m⠀\u001b[39m\u001b[37m│\u001b[39m    \n",
       "        \u001b[37m │\u001b[39m\u001b[37m⠀\u001b[39m\u001b[37m⠀\u001b[39m\u001b[37m⠀\u001b[39m\u001b[34m⠙\u001b[39m\u001b[34m⠢\u001b[39m\u001b[34m⣄\u001b[39m\u001b[34m⠻\u001b[39m\u001b[34m⡙\u001b[39m\u001b[34m⠒\u001b[39m\u001b[34m⠤\u001b[39m\u001b[35m⢇\u001b[39m\u001b[34m⣀\u001b[39m\u001b[37m⠀\u001b[39m\u001b[37m⠀\u001b[39m\u001b[37m⠀\u001b[39m\u001b[34m⢣\u001b[39m\u001b[37m⠀\u001b[39m\u001b[37m⠀\u001b[39m\u001b[34m⠉\u001b[39m\u001b[34m⠒\u001b[39m\u001b[35m⠷\u001b[39m\u001b[34m⣀\u001b[39m\u001b[37m⠀\u001b[39m\u001b[37m⠀\u001b[39m\u001b[34m⢟\u001b[39m\u001b[34m⠢\u001b[39m\u001b[34m⣄\u001b[39m\u001b[37m⠀\u001b[39m\u001b[37m⠀\u001b[39m\u001b[37m⠀\u001b[39m\u001b[34m⠑\u001b[39m\u001b[34m⢄\u001b[39m\u001b[37m⠀\u001b[39m\u001b[37m⠀\u001b[39m\u001b[37m⠀\u001b[39m\u001b[37m⠀\u001b[39m\u001b[37m⠀\u001b[39m\u001b[37m⠀\u001b[39m\u001b[37m⠀\u001b[39m\u001b[37m⠀\u001b[39m\u001b[37m⠀\u001b[39m\u001b[37m⠀\u001b[39m\u001b[37m│\u001b[39m    \n",
       "        \u001b[37m │\u001b[39m\u001b[37m⠀\u001b[39m\u001b[37m⠀\u001b[39m\u001b[37m⠀\u001b[39m\u001b[37m⠀\u001b[39m\u001b[37m⠀\u001b[39m\u001b[37m⠀\u001b[39m\u001b[34m⠙\u001b[39m\u001b[34m⠻\u001b[39m\u001b[34m⣄\u001b[39m\u001b[34m⡀\u001b[39m\u001b[34m⠘\u001b[39m\u001b[34m⡄\u001b[39m\u001b[34m⠉\u001b[39m\u001b[34m⠑\u001b[39m\u001b[34m⠒\u001b[39m\u001b[34m⠤\u001b[39m\u001b[34m⢧\u001b[39m\u001b[34m⣀\u001b[39m\u001b[34m⡀\u001b[39m\u001b[37m⠀\u001b[39m\u001b[37m⠀\u001b[39m\u001b[34m⠙\u001b[39m\u001b[34m⣍\u001b[39m\u001b[34m⠒\u001b[39m\u001b[34m⠼\u001b[39m\u001b[34m⣄\u001b[39m\u001b[34m⡀\u001b[39m\u001b[34m⠙\u001b[39m\u001b[34m⠢\u001b[39m\u001b[34m⣄\u001b[39m\u001b[34m⡀\u001b[39m\u001b[37m⠀\u001b[39m\u001b[34m⠑\u001b[39m\u001b[34m⢄\u001b[39m\u001b[37m⠀\u001b[39m\u001b[37m⠀\u001b[39m\u001b[37m⠀\u001b[39m\u001b[37m⠀\u001b[39m\u001b[37m⠀\u001b[39m\u001b[37m⠀\u001b[39m\u001b[37m⠀\u001b[39m\u001b[37m⠀\u001b[39m\u001b[37m│\u001b[39m    \n",
       "        \u001b[37m │\u001b[39m\u001b[37m⠀\u001b[39m\u001b[37m⠀\u001b[39m\u001b[37m⠀\u001b[39m\u001b[37m⠀\u001b[39m\u001b[37m⠀\u001b[39m\u001b[37m⠀\u001b[39m\u001b[37m⠀\u001b[39m\u001b[37m⠀\u001b[39m\u001b[34m⠈\u001b[39m\u001b[34m⢿\u001b[39m\u001b[34m⠲\u001b[39m\u001b[34m⣵\u001b[39m\u001b[34m⡀\u001b[39m\u001b[37m⠀\u001b[39m\u001b[37m⠀\u001b[39m\u001b[37m⠀\u001b[39m\u001b[37m⠀\u001b[39m\u001b[34m⢣\u001b[39m\u001b[34m⠉\u001b[39m\u001b[34m⠙\u001b[39m\u001b[34m⠒\u001b[39m\u001b[34m⠦\u001b[39m\u001b[34m⢬\u001b[39m\u001b[34m⣦\u001b[39m\u001b[34m⡀\u001b[39m\u001b[34m⢳\u001b[39m\u001b[34m⠉\u001b[39m\u001b[34m⠓\u001b[39m\u001b[34m⠦\u001b[39m\u001b[34m⣄\u001b[39m\u001b[34m⡙\u001b[39m\u001b[34m⠲\u001b[39m\u001b[34m⣄\u001b[39m\u001b[34m⡀\u001b[39m\u001b[34m⠑\u001b[39m\u001b[34m⢄\u001b[39m\u001b[37m⠀\u001b[39m\u001b[37m⠀\u001b[39m\u001b[37m⠀\u001b[39m\u001b[37m⠀\u001b[39m\u001b[37m⠀\u001b[39m\u001b[37m⠀\u001b[39m\u001b[37m│\u001b[39m    \n",
       "        \u001b[37m │\u001b[39m\u001b[37m⠀\u001b[39m\u001b[37m⠀\u001b[39m\u001b[37m⠀\u001b[39m\u001b[37m⠀\u001b[39m\u001b[37m⠀\u001b[39m\u001b[37m⠀\u001b[39m\u001b[37m⠀\u001b[39m\u001b[37m⠀\u001b[39m\u001b[37m⠀\u001b[39m\u001b[37m⠀\u001b[39m\u001b[34m⠳\u001b[39m\u001b[34m⡀\u001b[39m\u001b[34m⢟\u001b[39m\u001b[34m⠲\u001b[39m\u001b[34m⣄\u001b[39m\u001b[34m⡀\u001b[39m\u001b[37m⠀\u001b[39m\u001b[37m⠀\u001b[39m\u001b[34m⢣\u001b[39m\u001b[37m⠀\u001b[39m\u001b[37m⠀\u001b[39m\u001b[37m⠀\u001b[39m\u001b[37m⠀\u001b[39m\u001b[37m⠀\u001b[39m\u001b[34m⠻\u001b[39m\u001b[34m⡙\u001b[39m\u001b[34m⣗\u001b[39m\u001b[34m⠦\u001b[39m\u001b[34m⢤\u001b[39m\u001b[34m⣀\u001b[39m\u001b[34m⡉\u001b[39m\u001b[34m⠓\u001b[39m\u001b[34m⠦\u001b[39m\u001b[34m⣝\u001b[39m\u001b[34m⠢\u001b[39m\u001b[34m⣄\u001b[39m\u001b[34m⠑\u001b[39m\u001b[34m⢄\u001b[39m\u001b[37m⠀\u001b[39m\u001b[37m⠀\u001b[39m\u001b[37m⠀\u001b[39m\u001b[37m⠀\u001b[39m\u001b[37m│\u001b[39m    \n",
       "        \u001b[37m │\u001b[39m\u001b[37m⠀\u001b[39m\u001b[37m⠀\u001b[39m\u001b[37m⠀\u001b[39m\u001b[37m⠀\u001b[39m\u001b[37m⠀\u001b[39m\u001b[37m⠀\u001b[39m\u001b[37m⠀\u001b[39m\u001b[37m⠀\u001b[39m\u001b[37m⠀\u001b[39m\u001b[37m⠀\u001b[39m\u001b[37m⠀\u001b[39m\u001b[34m⠙\u001b[39m\u001b[34m⣜\u001b[39m\u001b[34m⡄\u001b[39m\u001b[37m⠀\u001b[39m\u001b[34m⠙\u001b[39m\u001b[34m⠲\u001b[39m\u001b[34m⣄\u001b[39m\u001b[37m⠀\u001b[39m\u001b[34m⢣\u001b[39m\u001b[37m⠀\u001b[39m\u001b[37m⠀\u001b[39m\u001b[37m⠀\u001b[39m\u001b[37m⠀\u001b[39m\u001b[37m⠀\u001b[39m\u001b[34m⠙\u001b[39m\u001b[34m⣼\u001b[39m\u001b[34m⡄\u001b[39m\u001b[37m⠀\u001b[39m\u001b[37m⠀\u001b[39m\u001b[34m⠉\u001b[39m\u001b[34m⠙\u001b[39m\u001b[34m⠒\u001b[39m\u001b[34m⠦\u001b[39m\u001b[34m⢍\u001b[39m\u001b[34m⣒\u001b[39m\u001b[34m⠽\u001b[39m\u001b[34m⣢\u001b[39m\u001b[34m⣕\u001b[39m\u001b[34m⢄\u001b[39m\u001b[37m⠀\u001b[39m\u001b[37m⠀\u001b[39m\u001b[37m│\u001b[39m    \n",
       "   \u001b[37m10000\u001b[39m\u001b[37m │\u001b[39m\u001b[37m⠀\u001b[39m\u001b[37m⠀\u001b[39m\u001b[37m⠀\u001b[39m\u001b[37m⠀\u001b[39m\u001b[37m⠀\u001b[39m\u001b[37m⠀\u001b[39m\u001b[37m⠀\u001b[39m\u001b[37m⠀\u001b[39m\u001b[37m⠀\u001b[39m\u001b[37m⠀\u001b[39m\u001b[37m⠀\u001b[39m\u001b[37m⠀\u001b[39m\u001b[34m⠈\u001b[39m\u001b[34m⢷\u001b[39m\u001b[37m⠀\u001b[39m\u001b[37m⠀\u001b[39m\u001b[37m⠀\u001b[39m\u001b[37m⠀\u001b[39m\u001b[34m⠙\u001b[39m\u001b[34m⠢\u001b[39m\u001b[34m⣧\u001b[39m\u001b[37m⠀\u001b[39m\u001b[37m⠀\u001b[39m\u001b[37m⠀\u001b[39m\u001b[37m⠀\u001b[39m\u001b[37m⠀\u001b[39m\u001b[34m⠈\u001b[39m\u001b[34m⢷\u001b[39m\u001b[37m⠀\u001b[39m\u001b[37m⠀\u001b[39m\u001b[37m⠀\u001b[39m\u001b[37m⠀\u001b[39m\u001b[37m⠀\u001b[39m\u001b[37m⠀\u001b[39m\u001b[37m⠀\u001b[39m\u001b[37m⠀\u001b[39m\u001b[34m⠉\u001b[39m\u001b[34m⠑\u001b[39m\u001b[34m⠛\u001b[39m\u001b[34m⠿\u001b[39m\u001b[34m⢷\u001b[39m\u001b[34m⣄\u001b[39m\u001b[37m│\u001b[39m    \n",
       "\u001b[37m         └──────────────────────────────────────────┘\u001b[39m    \n",
       "\u001b[37m         1\u001b[39m\u001b[37m                    \u001b[39m\u001b[37m                  10000\u001b[39m\n",
       "\u001b[37m                         nz = 39984\u001b[39m\n"
      ]
     },
     "execution_count": 15,
     "metadata": {},
     "output_type": "execute_result"
    }
   ],
   "source": [
    "using UnicodePlots; spy(hess(model, model.meta.x0))"
   ]
  },
  {
   "cell_type": "code",
   "execution_count": 16,
   "metadata": {},
   "outputs": [],
   "source": [
    "finalize(model)  # important when using CUTEst!"
   ]
  },
  {
   "cell_type": "code",
   "execution_count": 17,
   "metadata": {},
   "outputs": [
    {
     "name": "stderr",
     "output_type": "stream",
     "text": [
      "┌ Info: Precompiling AmplNLReader [77dd3d4c-cb1d-5e09-9340-85030ff7ba66]\n",
      "└ @ Base loading.jl:1187\n"
     ]
    }
   ],
   "source": [
    "using AmplNLReader"
   ]
  },
  {
   "cell_type": "code",
   "execution_count": 20,
   "metadata": {},
   "outputs": [],
   "source": [
    "model = AmplModel(\"hs097\");"
   ]
  },
  {
   "cell_type": "code",
   "execution_count": 21,
   "metadata": {},
   "outputs": [
    {
     "name": "stdout",
     "output_type": "stream",
     "text": [
      "Minimization problem hs097\n",
      "nvar = 6, ncon = 4 (0 linear)\n",
      "lvar = 0.0   0.0   0.0   0.0  ⋯  0.0\n",
      "uvar = 0.31   0.068   0.042   0.028  ⋯  0.046\n",
      "lcon = 32.97   25.12   -29.08   -78.02\n",
      "ucon = Inf   Inf   Inf   Inf\n",
      "x0 = 0.0   0.0   0.0   0.0  ⋯  0.0\n",
      "y0 = 0.0   0.0   0.0   0.0\n",
      "nnzh = 6\n",
      "nnzj = 20\n",
      "nonlinear constraints: 1   2   3   4\n"
     ]
    }
   ],
   "source": [
    "print(model.meta)"
   ]
  },
  {
   "cell_type": "code",
   "execution_count": 22,
   "metadata": {
    "scrolled": true
   },
   "outputs": [
    {
     "data": {
      "text/plain": [
       "4×6 Array{Float64,2}:\n",
       "  17.1  204.2  212.3   623.4  1495.5    38.2\n",
       "  17.9  113.9  169.7   337.8  1385.2    36.8\n",
       "   0.0    0.0  -70.0  -819.0     0.0  -273.0\n",
       " 159.9    0.0  587.0   391.0  2198.0  -311.0"
      ]
     },
     "execution_count": 22,
     "metadata": {},
     "output_type": "execute_result"
    }
   ],
   "source": [
    "Matrix(jac(model, model.meta.x0))"
   ]
  },
  {
   "cell_type": "markdown",
   "metadata": {},
   "source": [
    "Now we add slack variables to our model and convert it to the form\n",
    "\n",
    "\\begin{align*}\n",
    "  \\text{minimize} & \\quad f(x) \\\\\n",
    "  \\text{subject to} & \\quad c(x) - s = 0 \\\\\n",
    "  & \\quad c_L \\leq s \\leq c_U \\\\\n",
    "  & \\quad \\ell \\leq x \\leq u.\n",
    "\\end{align*}"
   ]
  },
  {
   "cell_type": "code",
   "execution_count": 23,
   "metadata": {},
   "outputs": [],
   "source": [
    "smodel = SlackModel(model);"
   ]
  },
  {
   "cell_type": "code",
   "execution_count": 24,
   "metadata": {},
   "outputs": [
    {
     "data": {
      "text/plain": [
       "4×10 Array{Float64,2}:\n",
       "  17.1  204.2  212.3   623.4  1495.5    38.2  -1.0   0.0   0.0   0.0\n",
       "  17.9  113.9  169.7   337.8  1385.2    36.8   0.0  -1.0   0.0   0.0\n",
       "   0.0    0.0  -70.0  -819.0     0.0  -273.0   0.0   0.0  -1.0   0.0\n",
       " 159.9    0.0  587.0   391.0  2198.0  -311.0   0.0   0.0   0.0  -1.0"
      ]
     },
     "execution_count": 24,
     "metadata": {},
     "output_type": "execute_result"
    }
   ],
   "source": [
    "Matrix(jac(smodel, smodel.meta.x0))"
   ]
  },
  {
   "cell_type": "markdown",
   "metadata": {},
   "source": [
    "The point is that we want to be able to write solvers that use a common interface to interact with problems"
   ]
  },
  {
   "cell_type": "code",
   "execution_count": 25,
   "metadata": {},
   "outputs": [
    {
     "data": {
      "text/plain": [
       "Minimization problem ARWHEAD\n",
       "nvar = 5000, ncon = 0 (0 linear)\n"
      ]
     },
     "execution_count": 25,
     "metadata": {},
     "output_type": "execute_result"
    }
   ],
   "source": [
    "model = CUTEstModel(\"ARWHEAD.SIF\")"
   ]
  },
  {
   "cell_type": "code",
   "execution_count": 26,
   "metadata": {},
   "outputs": [
    {
     "name": "stderr",
     "output_type": "stream",
     "text": [
      "┌ Info: Precompiling Optimize [5e8c6d2d-4baa-5f5c-b1ba-1e4a9e8b2645]\n",
      "└ @ Base loading.jl:1187\n"
     ]
    }
   ],
   "source": [
    "using Optimize"
   ]
  },
  {
   "cell_type": "code",
   "execution_count": 27,
   "metadata": {},
   "outputs": [
    {
     "name": "stderr",
     "output_type": "stream",
     "text": [
      "┌ Info: Iter          f     ‖∇f‖   Radius     Ratio  Inner  bk  status\n",
      "└ @ Optimize /Users/dpo/dev/julia/JSO/Optimize.jl/src/solver/trunk.jl:61\n",
      "┌ Info:    0   1.50e+04  4.0e+04  1.0e+02   1.2e+00      2   0  solution good enough given atol and rtol\n",
      "└ @ Optimize /Users/dpo/dev/julia/JSO/Optimize.jl/src/solver/trunk.jl:189\n",
      "┌ Info:    1   2.81e+03  1.2e+04  1.0e+02   1.2e+00      2   0  solution good enough given atol and rtol\n",
      "└ @ Optimize /Users/dpo/dev/julia/JSO/Optimize.jl/src/solver/trunk.jl:189\n",
      "┌ Info:    2   2.06e+02  2.9e+03  1.0e+02   1.0e+00      2   0  solution good enough given atol and rtol\n",
      "└ @ Optimize /Users/dpo/dev/julia/JSO/Optimize.jl/src/solver/trunk.jl:189\n",
      "┌ Info:    3   3.03e-01  1.1e+02  1.0e+02   1.0e+00      2   0  solution good enough given atol and rtol\n",
      "└ @ Optimize /Users/dpo/dev/julia/JSO/Optimize.jl/src/solver/trunk.jl:189\n",
      "┌ Info:    4   2.03e-04  7.0e-02  1.0e+02   1.0e+00      3   0  solution good enough given atol and rtol\n",
      "└ @ Optimize /Users/dpo/dev/julia/JSO/Optimize.jl/src/solver/trunk.jl:189\n",
      "┌ Info:    5   1.11e-12  5.9e-06  1.0e+02  \n",
      "└ @ Optimize /Users/dpo/dev/julia/JSO/Optimize.jl/src/solver/trunk.jl:200\n"
     ]
    },
    {
     "data": {
      "text/plain": [
       "\"Execution stats: first-order stationary\""
      ]
     },
     "execution_count": 27,
     "metadata": {},
     "output_type": "execute_result"
    }
   ],
   "source": [
    "trunk(model)"
   ]
  },
  {
   "cell_type": "code",
   "execution_count": 28,
   "metadata": {},
   "outputs": [
    {
     "data": {
      "text/plain": [
       "\"Execution stats: first-order stationary\""
      ]
     },
     "execution_count": 28,
     "metadata": {},
     "output_type": "execute_result"
    }
   ],
   "source": [
    "lbfgs(model)"
   ]
  },
  {
   "cell_type": "markdown",
   "metadata": {},
   "source": [
    "## Tools"
   ]
  },
  {
   "cell_type": "markdown",
   "metadata": {},
   "source": [
    "### LinearOperators"
   ]
  },
  {
   "cell_type": "code",
   "execution_count": 29,
   "metadata": {},
   "outputs": [],
   "source": [
    "using LinearAlgebra  # this module ships with Julia"
   ]
  },
  {
   "cell_type": "code",
   "execution_count": 30,
   "metadata": {},
   "outputs": [],
   "source": [
    "using LinearOperators"
   ]
  },
  {
   "cell_type": "code",
   "execution_count": 31,
   "metadata": {},
   "outputs": [],
   "source": [
    "using FFTW"
   ]
  },
  {
   "cell_type": "code",
   "execution_count": 32,
   "metadata": {},
   "outputs": [
    {
     "data": {
      "text/plain": [
       "Linear operator\n",
       "  nrow: 10\n",
       "  ncol: 10\n",
       "  eltype: Complex{Float64}\n",
       "  symmetric: false\n",
       "  hermitian: false\n",
       "\n"
      ]
     },
     "execution_count": 32,
     "metadata": {},
     "output_type": "execute_result"
    }
   ],
   "source": [
    "A = LinearOperator(10, 10, false, false, x -> FFTW.fft(x), nothing, y -> FFTW.ifft(y))"
   ]
  },
  {
   "cell_type": "code",
   "execution_count": 33,
   "metadata": {},
   "outputs": [
    {
     "data": {
      "text/plain": [
       "10×10 Array{Complex{Float64},2}:\n",
       " 1.0+0.0im        1.0+0.0im       …        1.0+0.0im     \n",
       " 1.0+0.0im   0.809017-0.587785im      0.809017+0.587785im\n",
       " 1.0+0.0im   0.309017-0.951057im      0.309017+0.951057im\n",
       " 1.0+0.0im  -0.309017-0.951057im     -0.309017+0.951057im\n",
       " 1.0+0.0im  -0.809017-0.587785im     -0.809017+0.587785im\n",
       " 1.0+0.0im       -1.0+0.0im       …       -1.0+0.0im     \n",
       " 1.0+0.0im  -0.809017+0.587785im     -0.809017-0.587785im\n",
       " 1.0+0.0im  -0.309017+0.951057im     -0.309017-0.951057im\n",
       " 1.0+0.0im   0.309017+0.951057im      0.309017-0.951057im\n",
       " 1.0+0.0im   0.809017+0.587785im      0.809017-0.587785im"
      ]
     },
     "execution_count": 33,
     "metadata": {},
     "output_type": "execute_result"
    }
   ],
   "source": [
    "Matrix(A)"
   ]
  },
  {
   "cell_type": "code",
   "execution_count": 34,
   "metadata": {},
   "outputs": [
    {
     "data": {
      "text/plain": [
       "10-element Array{Complex{Float64},1}:\n",
       "   5.055956376531393 + 0.0im                \n",
       "  0.7207305128070318 - 0.7971679394072275im \n",
       " -0.6818633541996724 - 0.18512981007954832im\n",
       " 0.24450569546149223 - 0.3720994140321605im \n",
       " 0.04774239732152913 - 0.7772400923779065im \n",
       "   1.746420611795134 + 0.0im                \n",
       " 0.04774239732152913 + 0.7772400923779065im \n",
       " 0.24450569546149223 + 0.3720994140321605im \n",
       " -0.6818633541996724 + 0.18512981007954832im\n",
       "  0.7207305128070318 + 0.7971679394072275im "
      ]
     },
     "execution_count": 34,
     "metadata": {},
     "output_type": "execute_result"
    }
   ],
   "source": [
    "A * rand(10)  # n log(n) complexity instead of n²!"
   ]
  },
  {
   "cell_type": "code",
   "execution_count": 35,
   "metadata": {},
   "outputs": [
    {
     "data": {
      "text/plain": [
       "1.9088641324474227e-16"
      ]
     },
     "execution_count": 35,
     "metadata": {},
     "output_type": "execute_result"
    }
   ],
   "source": [
    "norm(Matrix(A' * A) - I)  # check that A is orthogonal"
   ]
  },
  {
   "cell_type": "markdown",
   "metadata": {},
   "source": [
    "#### Quasi-Newton Approximations as Linear Operators"
   ]
  },
  {
   "cell_type": "code",
   "execution_count": 36,
   "metadata": {},
   "outputs": [
    {
     "data": {
      "text/plain": [
       "Linear operator\n",
       "  nrow: 10\n",
       "  ncol: 10\n",
       "  eltype: Float64\n",
       "  symmetric: true\n",
       "  hermitian: true\n",
       "\n"
      ]
     },
     "execution_count": 36,
     "metadata": {},
     "output_type": "execute_result"
    }
   ],
   "source": [
    "B = LBFGSOperator(10, 5)         # LBFGS approximation B ≈ ∇²f with memory = 5\n",
    "H = InverseLBFGSOperator(10, 5)  # LBFGS approximation such that H⁻¹ ≈ ∇²f with memory = 5"
   ]
  },
  {
   "cell_type": "code",
   "execution_count": 37,
   "metadata": {},
   "outputs": [],
   "source": [
    "for i = 1 : 10\n",
    "    s = rand(10)  # should be x+ - x\n",
    "    y = rand(10)  # should be ∇f(x+) - ∇f(x)\n",
    "    push!(B, s, y)\n",
    "    push!(H, s, y)\n",
    "end"
   ]
  },
  {
   "cell_type": "code",
   "execution_count": 38,
   "metadata": {},
   "outputs": [
    {
     "data": {
      "text/plain": [
       "10×10 Array{Float64,2}:\n",
       "  1.09392    -0.0631126   -0.175738   …   0.051636    0.0652684  -0.0487289 \n",
       " -0.0631126   0.876488     0.104732       0.182311    0.227001   -0.00569106\n",
       " -0.175738    0.104732     0.805851      -0.201113   -0.141323   -0.0542936 \n",
       " -0.119007   -0.172699    -0.061414      -0.0495879   0.114822   -0.319149  \n",
       "  0.136629   -0.0571997   -0.238158       0.147663    0.0969071  -0.0472247 \n",
       "  0.254688    0.106756    -0.168178   …   0.0555474   0.140833    0.0436863 \n",
       "  0.0906279   0.0814121   -0.152969      -0.103077    0.0527858  -0.0794942 \n",
       "  0.051636    0.182311    -0.201113       0.963942   -0.0596222   0.0265102 \n",
       "  0.0652684   0.227001    -0.141323      -0.0596222   1.14319     0.0695604 \n",
       " -0.0487289  -0.00569106  -0.0542936      0.0265102   0.0695604   0.837764  "
      ]
     },
     "execution_count": 38,
     "metadata": {},
     "output_type": "execute_result"
    }
   ],
   "source": [
    "Matrix(B)  # B and H are completely dense"
   ]
  },
  {
   "cell_type": "code",
   "execution_count": 39,
   "metadata": {},
   "outputs": [
    {
     "data": {
      "text/plain": [
       "10-element Array{Float64,1}:\n",
       " 0.33210510452852726\n",
       " 0.802123218595514  \n",
       " 0.03092792139743239\n",
       " 0.32032396340333025\n",
       " 0.8697138963608919 \n",
       " 1.348819266729682  \n",
       " 0.18901938176009347\n",
       " 1.0155131132466488 \n",
       " 0.5608410352979905 \n",
       " 0.11368809452398243"
      ]
     },
     "execution_count": 39,
     "metadata": {},
     "output_type": "execute_result"
    }
   ],
   "source": [
    "B * rand(10)  # but products can be computed efficiently without assembling B or H"
   ]
  },
  {
   "cell_type": "code",
   "execution_count": 40,
   "metadata": {},
   "outputs": [
    {
     "data": {
      "text/plain": [
       "4.038999550824333e-15"
      ]
     },
     "execution_count": 40,
     "metadata": {},
     "output_type": "execute_result"
    }
   ],
   "source": [
    "norm(Matrix(B * H) - I)  # B and H are inverses of each other"
   ]
  },
  {
   "cell_type": "code",
   "execution_count": 41,
   "metadata": {},
   "outputs": [
    {
     "data": {
      "text/plain": [
       "Linear operator\n",
       "  nrow: 10\n",
       "  ncol: 10\n",
       "  eltype: Float64\n",
       "  symmetric: false\n",
       "  hermitian: false\n",
       "\n"
      ]
     },
     "execution_count": 41,
     "metadata": {},
     "output_type": "execute_result"
    }
   ],
   "source": [
    "B * H"
   ]
  },
  {
   "cell_type": "markdown",
   "metadata": {},
   "source": [
    "### BenchmarkProfiles"
   ]
  },
  {
   "cell_type": "code",
   "execution_count": 43,
   "metadata": {},
   "outputs": [
    {
     "data": {
      "text/plain": [
       "Plots.GRBackend()"
      ]
     },
     "execution_count": 43,
     "metadata": {},
     "output_type": "execute_result"
    }
   ],
   "source": [
    "using BenchmarkProfiles\n",
    "using Plots\n",
    "gr()"
   ]
  },
  {
   "cell_type": "code",
   "execution_count": 44,
   "metadata": {},
   "outputs": [],
   "source": [
    "T = 10 * rand(25,3);  # 25 problems, 3 solvers"
   ]
  },
  {
   "cell_type": "code",
   "execution_count": 45,
   "metadata": {},
   "outputs": [
    {
     "data": {
      "image/svg+xml": [
       "<?xml version=\"1.0\" encoding=\"utf-8\"?>\n",
       "<svg xmlns=\"http://www.w3.org/2000/svg\" xmlns:xlink=\"http://www.w3.org/1999/xlink\" width=\"150\" height=\"100\" viewBox=\"0 0 600 400\">\n",
       "<defs>\n",
       "  <clipPath id=\"clip7000\">\n",
       "    <rect x=\"0\" y=\"0\" width=\"2000\" height=\"2000\"/>\n",
       "  </clipPath>\n",
       "</defs>\n",
       "<defs>\n",
       "  <clipPath id=\"clip7001\">\n",
       "    <rect x=\"0\" y=\"0\" width=\"600\" height=\"400\"/>\n",
       "  </clipPath>\n",
       "</defs>\n",
       "<polygon clip-path=\"url(#clip7001)\" points=\"\n",
       "0,400 600,400 600,0 0,0 \n",
       "  \" fill=\"#ffffff\" fill-rule=\"evenodd\" fill-opacity=\"1\"/>\n",
       "<defs>\n",
       "  <clipPath id=\"clip7002\">\n",
       "    <rect x=\"120\" y=\"0\" width=\"421\" height=\"400\"/>\n",
       "  </clipPath>\n",
       "</defs>\n",
       "<polygon clip-path=\"url(#clip7001)\" points=\"\n",
       "62.7871,360.121 580.315,360.121 580.315,31.4961 62.7871,31.4961 \n",
       "  \" fill=\"#ffffff\" fill-rule=\"evenodd\" fill-opacity=\"1\"/>\n",
       "<defs>\n",
       "  <clipPath id=\"clip7003\">\n",
       "    <rect x=\"62\" y=\"31\" width=\"519\" height=\"330\"/>\n",
       "  </clipPath>\n",
       "</defs>\n",
       "<polyline clip-path=\"url(#clip7003)\" style=\"stroke:#000000; stroke-width:0.5; stroke-opacity:0.1; fill:none\" points=\"\n",
       "  62.7871,360.121 62.7871,31.4961 \n",
       "  \"/>\n",
       "<polyline clip-path=\"url(#clip7003)\" style=\"stroke:#000000; stroke-width:0.5; stroke-opacity:0.1; fill:none\" points=\"\n",
       "  153.101,360.121 153.101,31.4961 \n",
       "  \"/>\n",
       "<polyline clip-path=\"url(#clip7003)\" style=\"stroke:#000000; stroke-width:0.5; stroke-opacity:0.1; fill:none\" points=\"\n",
       "  243.416,360.121 243.416,31.4961 \n",
       "  \"/>\n",
       "<polyline clip-path=\"url(#clip7003)\" style=\"stroke:#000000; stroke-width:0.5; stroke-opacity:0.1; fill:none\" points=\"\n",
       "  333.73,360.121 333.73,31.4961 \n",
       "  \"/>\n",
       "<polyline clip-path=\"url(#clip7003)\" style=\"stroke:#000000; stroke-width:0.5; stroke-opacity:0.1; fill:none\" points=\"\n",
       "  424.044,360.121 424.044,31.4961 \n",
       "  \"/>\n",
       "<polyline clip-path=\"url(#clip7003)\" style=\"stroke:#000000; stroke-width:0.5; stroke-opacity:0.1; fill:none\" points=\"\n",
       "  514.359,360.121 514.359,31.4961 \n",
       "  \"/>\n",
       "<polyline clip-path=\"url(#clip7003)\" style=\"stroke:#000000; stroke-width:0.5; stroke-opacity:0.1; fill:none\" points=\"\n",
       "  62.7871,360.121 580.315,360.121 \n",
       "  \"/>\n",
       "<polyline clip-path=\"url(#clip7003)\" style=\"stroke:#000000; stroke-width:0.5; stroke-opacity:0.1; fill:none\" points=\"\n",
       "  62.7871,285.433 580.315,285.433 \n",
       "  \"/>\n",
       "<polyline clip-path=\"url(#clip7003)\" style=\"stroke:#000000; stroke-width:0.5; stroke-opacity:0.1; fill:none\" points=\"\n",
       "  62.7871,210.746 580.315,210.746 \n",
       "  \"/>\n",
       "<polyline clip-path=\"url(#clip7003)\" style=\"stroke:#000000; stroke-width:0.5; stroke-opacity:0.1; fill:none\" points=\"\n",
       "  62.7871,136.058 580.315,136.058 \n",
       "  \"/>\n",
       "<polyline clip-path=\"url(#clip7003)\" style=\"stroke:#000000; stroke-width:0.5; stroke-opacity:0.1; fill:none\" points=\"\n",
       "  62.7871,61.371 580.315,61.371 \n",
       "  \"/>\n",
       "<polyline clip-path=\"url(#clip7001)\" style=\"stroke:#000000; stroke-width:1; stroke-opacity:1; fill:none\" points=\"\n",
       "  62.7871,360.121 580.315,360.121 \n",
       "  \"/>\n",
       "<polyline clip-path=\"url(#clip7001)\" style=\"stroke:#000000; stroke-width:1; stroke-opacity:1; fill:none\" points=\"\n",
       "  62.7871,360.121 62.7871,31.4961 \n",
       "  \"/>\n",
       "<polyline clip-path=\"url(#clip7001)\" style=\"stroke:#000000; stroke-width:1; stroke-opacity:1; fill:none\" points=\"\n",
       "  62.7871,360.121 62.7871,355.191 \n",
       "  \"/>\n",
       "<polyline clip-path=\"url(#clip7001)\" style=\"stroke:#000000; stroke-width:1; stroke-opacity:1; fill:none\" points=\"\n",
       "  153.101,360.121 153.101,355.191 \n",
       "  \"/>\n",
       "<polyline clip-path=\"url(#clip7001)\" style=\"stroke:#000000; stroke-width:1; stroke-opacity:1; fill:none\" points=\"\n",
       "  243.416,360.121 243.416,355.191 \n",
       "  \"/>\n",
       "<polyline clip-path=\"url(#clip7001)\" style=\"stroke:#000000; stroke-width:1; stroke-opacity:1; fill:none\" points=\"\n",
       "  333.73,360.121 333.73,355.191 \n",
       "  \"/>\n",
       "<polyline clip-path=\"url(#clip7001)\" style=\"stroke:#000000; stroke-width:1; stroke-opacity:1; fill:none\" points=\"\n",
       "  424.044,360.121 424.044,355.191 \n",
       "  \"/>\n",
       "<polyline clip-path=\"url(#clip7001)\" style=\"stroke:#000000; stroke-width:1; stroke-opacity:1; fill:none\" points=\"\n",
       "  514.359,360.121 514.359,355.191 \n",
       "  \"/>\n",
       "<polyline clip-path=\"url(#clip7001)\" style=\"stroke:#000000; stroke-width:1; stroke-opacity:1; fill:none\" points=\"\n",
       "  62.7871,360.121 70.55,360.121 \n",
       "  \"/>\n",
       "<polyline clip-path=\"url(#clip7001)\" style=\"stroke:#000000; stroke-width:1; stroke-opacity:1; fill:none\" points=\"\n",
       "  62.7871,285.433 70.55,285.433 \n",
       "  \"/>\n",
       "<polyline clip-path=\"url(#clip7001)\" style=\"stroke:#000000; stroke-width:1; stroke-opacity:1; fill:none\" points=\"\n",
       "  62.7871,210.746 70.55,210.746 \n",
       "  \"/>\n",
       "<polyline clip-path=\"url(#clip7001)\" style=\"stroke:#000000; stroke-width:1; stroke-opacity:1; fill:none\" points=\"\n",
       "  62.7871,136.058 70.55,136.058 \n",
       "  \"/>\n",
       "<polyline clip-path=\"url(#clip7001)\" style=\"stroke:#000000; stroke-width:1; stroke-opacity:1; fill:none\" points=\"\n",
       "  62.7871,61.371 70.55,61.371 \n",
       "  \"/>\n",
       "<g clip-path=\"url(#clip7001)\">\n",
       "<text style=\"fill:#000000; fill-opacity:1; font-family:Arial,Helvetica Neue,Helvetica,sans-serif; font-size:12px; text-anchor:middle;\" transform=\"rotate(0, 62.7871, 373.921)\" x=\"62.7871\" y=\"373.921\">0</text>\n",
       "</g>\n",
       "<g clip-path=\"url(#clip7001)\">\n",
       "<text style=\"fill:#000000; fill-opacity:1; font-family:Arial,Helvetica Neue,Helvetica,sans-serif; font-size:12px; text-anchor:middle;\" transform=\"rotate(0, 153.101, 373.921)\" x=\"153.101\" y=\"373.921\">1</text>\n",
       "</g>\n",
       "<g clip-path=\"url(#clip7001)\">\n",
       "<text style=\"fill:#000000; fill-opacity:1; font-family:Arial,Helvetica Neue,Helvetica,sans-serif; font-size:12px; text-anchor:middle;\" transform=\"rotate(0, 243.416, 373.921)\" x=\"243.416\" y=\"373.921\">2</text>\n",
       "</g>\n",
       "<g clip-path=\"url(#clip7001)\">\n",
       "<text style=\"fill:#000000; fill-opacity:1; font-family:Arial,Helvetica Neue,Helvetica,sans-serif; font-size:12px; text-anchor:middle;\" transform=\"rotate(0, 333.73, 373.921)\" x=\"333.73\" y=\"373.921\">3</text>\n",
       "</g>\n",
       "<g clip-path=\"url(#clip7001)\">\n",
       "<text style=\"fill:#000000; fill-opacity:1; font-family:Arial,Helvetica Neue,Helvetica,sans-serif; font-size:12px; text-anchor:middle;\" transform=\"rotate(0, 424.044, 373.921)\" x=\"424.044\" y=\"373.921\">4</text>\n",
       "</g>\n",
       "<g clip-path=\"url(#clip7001)\">\n",
       "<text style=\"fill:#000000; fill-opacity:1; font-family:Arial,Helvetica Neue,Helvetica,sans-serif; font-size:12px; text-anchor:middle;\" transform=\"rotate(0, 514.359, 373.921)\" x=\"514.359\" y=\"373.921\">5</text>\n",
       "</g>\n",
       "<g clip-path=\"url(#clip7001)\">\n",
       "<text style=\"fill:#000000; fill-opacity:1; font-family:Arial,Helvetica Neue,Helvetica,sans-serif; font-size:12px; text-anchor:end;\" transform=\"rotate(0, 56.7871, 364.621)\" x=\"56.7871\" y=\"364.621\">0.00</text>\n",
       "</g>\n",
       "<g clip-path=\"url(#clip7001)\">\n",
       "<text style=\"fill:#000000; fill-opacity:1; font-family:Arial,Helvetica Neue,Helvetica,sans-serif; font-size:12px; text-anchor:end;\" transform=\"rotate(0, 56.7871, 289.933)\" x=\"56.7871\" y=\"289.933\">0.25</text>\n",
       "</g>\n",
       "<g clip-path=\"url(#clip7001)\">\n",
       "<text style=\"fill:#000000; fill-opacity:1; font-family:Arial,Helvetica Neue,Helvetica,sans-serif; font-size:12px; text-anchor:end;\" transform=\"rotate(0, 56.7871, 215.246)\" x=\"56.7871\" y=\"215.246\">0.50</text>\n",
       "</g>\n",
       "<g clip-path=\"url(#clip7001)\">\n",
       "<text style=\"fill:#000000; fill-opacity:1; font-family:Arial,Helvetica Neue,Helvetica,sans-serif; font-size:12px; text-anchor:end;\" transform=\"rotate(0, 56.7871, 140.558)\" x=\"56.7871\" y=\"140.558\">0.75</text>\n",
       "</g>\n",
       "<g clip-path=\"url(#clip7001)\">\n",
       "<text style=\"fill:#000000; fill-opacity:1; font-family:Arial,Helvetica Neue,Helvetica,sans-serif; font-size:12px; text-anchor:end;\" transform=\"rotate(0, 56.7871, 65.871)\" x=\"56.7871\" y=\"65.871\">1.00</text>\n",
       "</g>\n",
       "<g clip-path=\"url(#clip7001)\">\n",
       "<text style=\"fill:#000000; fill-opacity:1; font-family:Arial,Helvetica Neue,Helvetica,sans-serif; font-size:21px; text-anchor:middle;\" transform=\"rotate(0, 321.551, 18)\" x=\"321.551\" y=\"18\">Celebrity Deathmatch</text>\n",
       "</g>\n",
       "<g clip-path=\"url(#clip7001)\">\n",
       "<text style=\"fill:#000000; fill-opacity:1; font-family:Arial,Helvetica Neue,Helvetica,sans-serif; font-size:16px; text-anchor:middle;\" transform=\"rotate(0, 321.551, 397.6)\" x=\"321.551\" y=\"397.6\">Within this factor of the best (log scale)</text>\n",
       "</g>\n",
       "<g clip-path=\"url(#clip7001)\">\n",
       "<text style=\"fill:#000000; fill-opacity:1; font-family:Arial,Helvetica Neue,Helvetica,sans-serif; font-size:16px; text-anchor:middle;\" transform=\"rotate(-90, 14.4, 195.808)\" x=\"14.4\" y=\"195.808\">Proportion of problems</text>\n",
       "</g>\n",
       "<polyline clip-path=\"url(#clip7003)\" style=\"stroke:#009af9; stroke-width:1; stroke-opacity:1; fill:none\" points=\"\n",
       "  62.7871,348.171 62.7871,348.171 62.7871,336.221 62.7871,324.271 62.7871,312.321 62.7871,300.371 \n",
       "  62.7871,288.421 62.7871,276.471 62.7871,264.521 62.7871,252.571 76.5239,252.571 76.5239,240.621 86.0628,240.621 \n",
       "  86.0628,228.671 89.5822,228.671 89.5822,216.721 99.5545,216.721 99.5545,204.771 108.975,204.771 108.975,192.821 110.27,192.821 110.27,180.871 123.508,180.871 \n",
       "  123.508,168.921 124.068,168.921 124.068,156.971 141.487,156.971 141.487,145.021 165.07,145.021 165.07,133.071 177.41,133.071 177.41,121.121 181.813,121.121 \n",
       "  181.813,109.171 256.426,109.171 256.426,97.221 263.807,97.221 263.807,85.271 357.227,85.271 357.227,73.321 407.898,73.321 407.898,61.371 1003.75,61.371 \n",
       "  1003.75,49.421 \n",
       "  \"/>\n",
       "<polyline clip-path=\"url(#clip7003)\" style=\"stroke:#e26f46; stroke-width:1; stroke-opacity:1; fill:none\" points=\"\n",
       "  62.7871,348.171 62.7871,348.171 62.7871,336.221 62.7871,324.271 62.7871,312.321 62.7871,300.371 \n",
       "  62.7871,288.421 62.7871,276.471 62.7871,264.521 62.7871,252.571 62.7871,240.621 67.0492,240.621 \n",
       "  67.0492,228.671 81.4028,228.671 81.4028,216.721 106.136,216.721 106.136,204.771 122.475,204.771 122.475,192.821 132.074,192.821 132.074,180.871 179.539,180.871 \n",
       "  179.539,168.921 193.201,168.921 193.201,156.971 198.023,156.971 198.023,145.021 231.35,145.021 231.35,133.071 236.044,133.071 236.044,121.121 260.544,121.121 \n",
       "  260.544,109.171 277.96,109.171 277.96,97.221 421.171,97.221 421.171,85.271 422.945,85.271 422.945,73.321 476.967,73.321 476.967,61.371 1003.75,61.371 \n",
       "  1003.75,49.421 \n",
       "  \"/>\n",
       "<polyline clip-path=\"url(#clip7003)\" style=\"stroke:#3da44d; stroke-width:1; stroke-opacity:1; fill:none\" points=\"\n",
       "  62.7871,348.171 62.7871,348.171 62.7871,336.221 62.7871,324.271 62.7871,312.321 62.7871,300.371 \n",
       "  62.7871,288.421 79.8251,288.421 79.8251,276.471 83.0629,276.471 83.0629,264.521 83.2124,264.521 83.2124,252.571 98.1311,252.571 98.1311,240.621 103.789,240.621 \n",
       "  103.789,228.671 129.376,228.671 129.376,216.721 148.428,216.721 148.428,204.771 149.101,204.771 149.101,192.821 182.388,192.821 182.388,180.871 186.382,180.871 \n",
       "  186.382,168.921 195.292,168.921 195.292,156.971 206.295,156.971 206.295,145.021 217.711,145.021 217.711,133.071 220.106,133.071 220.106,121.121 233.071,121.121 \n",
       "  233.071,109.171 397.851,109.171 397.851,97.221 452.831,97.221 452.831,85.271 516.078,85.271 516.078,73.321 533.267,73.321 533.267,61.371 1003.75,61.371 \n",
       "  1003.75,49.421 \n",
       "  \"/>\n",
       "<polygon clip-path=\"url(#clip7001)\" points=\"\n",
       "458.176,112.856 562.315,112.856 562.315,52.3761 458.176,52.3761 \n",
       "  \" fill=\"#ffffff\" fill-rule=\"evenodd\" fill-opacity=\"1\"/>\n",
       "<polyline clip-path=\"url(#clip7001)\" style=\"stroke:#000000; stroke-width:1; stroke-opacity:1; fill:none\" points=\"\n",
       "  458.176,112.856 562.315,112.856 562.315,52.3761 458.176,52.3761 458.176,112.856 \n",
       "  \"/>\n",
       "<polyline clip-path=\"url(#clip7001)\" style=\"stroke:#009af9; stroke-width:1; stroke-opacity:1; fill:none\" points=\"\n",
       "  464.176,67.4961 500.176,67.4961 \n",
       "  \"/>\n",
       "<g clip-path=\"url(#clip7001)\">\n",
       "<text style=\"fill:#000000; fill-opacity:1; font-family:Arial,Helvetica Neue,Helvetica,sans-serif; font-size:12px; text-anchor:start;\" transform=\"rotate(0, 506.176, 71.9961)\" x=\"506.176\" y=\"71.9961\">Solver 1</text>\n",
       "</g>\n",
       "<polyline clip-path=\"url(#clip7001)\" style=\"stroke:#e26f46; stroke-width:1; stroke-opacity:1; fill:none\" points=\"\n",
       "  464.176,82.6161 500.176,82.6161 \n",
       "  \"/>\n",
       "<g clip-path=\"url(#clip7001)\">\n",
       "<text style=\"fill:#000000; fill-opacity:1; font-family:Arial,Helvetica Neue,Helvetica,sans-serif; font-size:12px; text-anchor:start;\" transform=\"rotate(0, 506.176, 87.1161)\" x=\"506.176\" y=\"87.1161\">Solver 2</text>\n",
       "</g>\n",
       "<polyline clip-path=\"url(#clip7001)\" style=\"stroke:#3da44d; stroke-width:1; stroke-opacity:1; fill:none\" points=\"\n",
       "  464.176,97.7361 500.176,97.7361 \n",
       "  \"/>\n",
       "<g clip-path=\"url(#clip7001)\">\n",
       "<text style=\"fill:#000000; fill-opacity:1; font-family:Arial,Helvetica Neue,Helvetica,sans-serif; font-size:12px; text-anchor:start;\" transform=\"rotate(0, 506.176, 102.236)\" x=\"506.176\" y=\"102.236\">Solver 3</text>\n",
       "</g>\n",
       "</svg>\n"
      ]
     },
     "execution_count": 45,
     "metadata": {},
     "output_type": "execute_result"
    }
   ],
   "source": [
    "performance_profile(T, [\"Solver 1\", \"Solver 2\", \"Solver 3\"], title=\"Celebrity Deathmatch\")"
   ]
  },
  {
   "cell_type": "markdown",
   "metadata": {},
   "source": [
    "## Iterative Methods for Linear Systems"
   ]
  },
  {
   "cell_type": "code",
   "execution_count": 46,
   "metadata": {},
   "outputs": [],
   "source": [
    "using Krylov"
   ]
  },
  {
   "cell_type": "code",
   "execution_count": 54,
   "metadata": {},
   "outputs": [],
   "source": [
    "A = rand(10, 10); A = A * A';  # SPD\n",
    "b = A * ones(10);"
   ]
  },
  {
   "cell_type": "code",
   "execution_count": 55,
   "metadata": {},
   "outputs": [
    {
     "name": "stdout",
     "output_type": "stream",
     "text": [
      "CG: system of 10 equations in 10 variables\n",
      "    0   6.9e+01   1.1e+05  4.5e-02  4.5e-02\n",
      "    1   4.7e-01   3.2e-01  7.0e-01  7.0e-01\n",
      "    2   1.4e-01   1.2e-02  1.7e+00  1.7e+00\n",
      "    3   8.6e-02   4.3e-03  1.7e+00  1.7e+00\n",
      "    4   1.1e-02   6.2e-05  2.1e+00  2.1e+00\n",
      "    5   6.4e-03   4.9e-05  8.3e-01  8.3e-01\n",
      "    6   3.7e-03   2.0e-06  6.8e+00  6.8e+00\n",
      "    7   3.9e-03   2.6e-06  5.9e+00  5.9e+00\n",
      "    8   2.1e-03   2.5e-05  1.8e-01  1.8e-01\n",
      "    9   3.7e-03   3.2e-06  4.2e+00  4.2e+00\n",
      "   10   1.6e-03   5.4e-08  4.8e+01  4.8e+01\n",
      "   11   1.4e-12  \n"
     ]
    },
    {
     "data": {
      "text/plain": [
       "([1.0, 1.0, 1.0, 1.0, 1.0, 1.0, 1.0, 1.0, 1.0, 1.0], \n",
       "Simple stats\n",
       "  solved: true\n",
       "  inconsistent: false\n",
       "  residuals:  [  6.9e+01  4.7e-01  1.4e-01 ...  3.7e-03  1.6e-03  1.4e-12 ]\n",
       "  Aresiduals: [ ]\n",
       "  status: solution good enough given atol and rtol\n",
       ")"
      ]
     },
     "execution_count": 55,
     "metadata": {},
     "output_type": "execute_result"
    }
   ],
   "source": [
    "cg(A, b, verbose=true)"
   ]
  },
  {
   "cell_type": "markdown",
   "metadata": {},
   "source": [
    "We can also use CG to solve the trust-region subproblem\n",
    "\n",
    "\\begin{align*}\n",
    "  \\text{minimize} & \\quad -b^T s + \\tfrac{1}{2} s^T A s \\\\\n",
    "  \\text{subject to} & \\quad \\|s\\| \\leq \\Delta\n",
    "\\end{align*}"
   ]
  },
  {
   "cell_type": "code",
   "execution_count": 56,
   "metadata": {},
   "outputs": [
    {
     "name": "stdout",
     "output_type": "stream",
     "text": [
      "CG: system of 10 equations in 10 variables\n",
      "    0   6.9e+01   1.1e+05  4.5e-02  4.6e-02\n",
      "    1   4.7e-01   3.2e-01  7.0e-01  1.0e+00\n",
      "    2   1.4e-01   1.2e-02  1.7e+00  1.7e+00\n",
      "    3   8.6e-02   4.3e-03  1.7e+00  3.6e-02\n",
      "    4   8.4e-02  \n"
     ]
    },
    {
     "data": {
      "text/plain": [
       "([1.00371, 1.06263, 0.880546, 1.02432, 0.884777, 0.980492, 1.15366, 0.965662, 0.895031, 1.04389], \n",
       "Simple stats\n",
       "  solved: true\n",
       "  inconsistent: false\n",
       "  residuals:  [  6.9e+01  4.7e-01  1.4e-01  8.6e-02  8.4e-02 ]\n",
       "  Aresiduals: [ ]\n",
       "  status: on trust-region boundary\n",
       ")"
      ]
     },
     "execution_count": 56,
     "metadata": {},
     "output_type": "execute_result"
    }
   ],
   "source": [
    "cg(A, b, radius=3.14, verbose=true)  # add a trust-region constraint"
   ]
  },
  {
   "cell_type": "code",
   "execution_count": 57,
   "metadata": {},
   "outputs": [
    {
     "data": {
      "text/plain": [
       "3.14"
      ]
     },
     "execution_count": 57,
     "metadata": {},
     "output_type": "execute_result"
    }
   ],
   "source": [
    "norm(ans[1])"
   ]
  },
  {
   "cell_type": "markdown",
   "metadata": {},
   "source": [
    "## How We Use Multiple Dispatch"
   ]
  },
  {
   "cell_type": "markdown",
   "metadata": {},
   "source": [
    "`LDLFactorizations` is a package to compute the sparse symmetric quasi-definite factorization $A = L D L^T$ where $L$ is unit lower triangular and $D$ is diagonal. It is entirely implemented in Julia."
   ]
  },
  {
   "cell_type": "code",
   "execution_count": 58,
   "metadata": {},
   "outputs": [],
   "source": [
    "using LDLFactorizations"
   ]
  },
  {
   "cell_type": "code",
   "execution_count": 60,
   "metadata": {},
   "outputs": [
    {
     "name": "stdout",
     "output_type": "stream",
     "text": [
      "  0.000232 seconds (26 allocations: 146.930 KiB)\n",
      "  0.000233 seconds (26 allocations: 135.242 KiB)\n"
     ]
    }
   ],
   "source": [
    "include(\"test_single.jl\");  # factorize in single precision (32 bits)"
   ]
  },
  {
   "cell_type": "code",
   "execution_count": 61,
   "metadata": {},
   "outputs": [
    {
     "data": {
      "text/plain": [
       "550-element Array{Float32,1}:\n",
       " -0.5789374  \n",
       " -0.32080913 \n",
       "  1.3764133  \n",
       "  0.048997562\n",
       " -1.2743262  \n",
       "  1.2484739  \n",
       " -0.6092489  \n",
       " -0.14004253 \n",
       "  0.11015992 \n",
       " -1.6164333  \n",
       " -2.21149    \n",
       " -0.7528112  \n",
       " -0.942951   \n",
       "  ⋮          \n",
       "  5.409502   \n",
       "  5.8863583  \n",
       "  6.025995   \n",
       "  6.184732   \n",
       "  6.4798164  \n",
       "  6.715082   \n",
       "  6.132685   \n",
       "  6.035061   \n",
       "  6.50018    \n",
       "  6.7561355  \n",
       "  6.2833214  \n",
       "  5.9471755  "
      ]
     },
     "execution_count": 61,
     "metadata": {},
     "output_type": "execute_result"
    }
   ],
   "source": [
    "LDL = ldl(A); LDL \\ rhs  # solve system in single precision"
   ]
  },
  {
   "cell_type": "code",
   "execution_count": 62,
   "metadata": {},
   "outputs": [
    {
     "name": "stdout",
     "output_type": "stream",
     "text": [
      "  0.000197 seconds (26 allocations: 146.930 KiB)\n",
      "  0.000961 seconds (26 allocations: 129.305 KiB)\n"
     ]
    }
   ],
   "source": [
    "include(\"test_half.jl\");  # factorize in half precision (16 bits)"
   ]
  },
  {
   "cell_type": "code",
   "execution_count": 63,
   "metadata": {},
   "outputs": [
    {
     "data": {
      "text/plain": [
       "550-element Array{Float16,1}:\n",
       " -0.584  \n",
       " -0.3145 \n",
       "  1.375  \n",
       "  0.0388 \n",
       " -1.258  \n",
       "  1.262  \n",
       " -0.6    \n",
       " -0.1425 \n",
       "  0.10516\n",
       " -1.621  \n",
       " -2.209  \n",
       " -0.7646 \n",
       " -0.945  \n",
       "  ⋮      \n",
       "  5.4    \n",
       "  5.89   \n",
       "  6.016  \n",
       "  6.18   \n",
       "  6.477  \n",
       "  6.715  \n",
       "  6.14   \n",
       "  6.035  \n",
       "  6.516  \n",
       "  6.758  \n",
       "  6.277  \n",
       "  5.945  "
      ]
     },
     "execution_count": 63,
     "metadata": {},
     "output_type": "execute_result"
    }
   ],
   "source": [
    "LDL = ldl(A); LDL \\ rhs  # solve system in half precision"
   ]
  },
  {
   "cell_type": "code",
   "execution_count": 64,
   "metadata": {},
   "outputs": [
    {
     "name": "stdout",
     "output_type": "stream",
     "text": [
      "  0.000188 seconds (26 allocations: 146.930 KiB)\n",
      "  0.011667 seconds (27 allocations: 170.445 KiB)\n"
     ]
    }
   ],
   "source": [
    "include(\"test_decfp.jl\");  # factorize in quadruple precision (128 bits)"
   ]
  },
  {
   "cell_type": "code",
   "execution_count": 65,
   "metadata": {},
   "outputs": [
    {
     "data": {
      "text/plain": [
       "(550, 550)"
      ]
     },
     "execution_count": 65,
     "metadata": {},
     "output_type": "execute_result"
    }
   ],
   "source": [
    "size(A)"
   ]
  },
  {
   "cell_type": "code",
   "execution_count": 66,
   "metadata": {},
   "outputs": [
    {
     "data": {
      "text/plain": [
       "550-element Array{Dec128,1}:\n",
       " -0.5789391676025727036119525262872784 \n",
       " -0.3208101540199521789701607901751622 \n",
       "  1.376414859767523253206216405786593  \n",
       "  0.04899936733303184911277963781911877\n",
       " -1.274320975430232834064193592198799  \n",
       "  1.248474295107157207618319794749823  \n",
       " -0.609249181421566360699068384956126  \n",
       " -0.1400429306436350674374159160968927 \n",
       "  0.1101574628995111406806425970340332 \n",
       " -1.616435167051859317450267578009796  \n",
       " -2.211489532112809898992816673122192  \n",
       " -0.7528123852596415572293967724437087 \n",
       " -0.942950952227431907593499507690086  \n",
       "  ⋮                                    \n",
       "  5.409500993813889248277311346870084  \n",
       "  5.886357945021753283775785194177244  \n",
       "  6.025995387146967183129843924247099  \n",
       "  6.18473134441512939080862572383375   \n",
       "  6.479816797165921931847593640661021  \n",
       "  6.715081610297709619300327476582492  \n",
       "  6.132687686243101322905588604113827  \n",
       "  6.035061794935864832022909988276899  \n",
       "  6.50017928014031901922533430303244   \n",
       "  6.756134584795552832974261063508023  \n",
       "  6.283321357600508311941813820670195  \n",
       "  5.947175214085436012557368879210777  "
      ]
     },
     "execution_count": 66,
     "metadata": {},
     "output_type": "execute_result"
    }
   ],
   "source": [
    "LDL = ldl(A); LDL \\ rhs  # solve system in quadruple precision"
   ]
  },
  {
   "cell_type": "code",
   "execution_count": 68,
   "metadata": {},
   "outputs": [],
   "source": [
    "A = MatrixMarket.mmread(\"K_0.mtx\");\n",
    "rhs = readdlm(\"rhs_0.rhs\")[:];\n",
    "A = convert(SparseMatrixCSC{BigFloat,Int}, A);  # BigFloat is octo-precision: Float{256}!!!\n",
    "rhs = convert(Vector{BigFloat}, rhs);"
   ]
  },
  {
   "cell_type": "code",
   "execution_count": 70,
   "metadata": {},
   "outputs": [],
   "source": [
    "LDL = ldl(A);"
   ]
  },
  {
   "cell_type": "code",
   "execution_count": 71,
   "metadata": {},
   "outputs": [
    {
     "data": {
      "text/plain": [
       "550-element Array{BigFloat,1}:\n",
       " -5.78939167602572703611952526287264436323601489878584940886473542437269326823301e-01 \n",
       " -3.208101540199521789701607901751662552152036667527653802143428659506691808077964e-01\n",
       "  1.376414859767523253206216405786593052831197656232406062834026711404385642723487    \n",
       "  4.899936733303184911277963781911914090352333381738089902370281958811705945904487e-02\n",
       " -1.27432097543023283406419359219883375128650942083332192556062013131740716573169     \n",
       "  1.248474295107157207618319794749814607730718712147639771212638707371057829715484    \n",
       " -6.092491814215663606990683849561368895740575918530902632572456363576222590363879e-01\n",
       " -1.400429306436350674374159160968976874021817512767188508556132805536575466777125e-01\n",
       "  1.101574628995111406806425970340360793327339609691208015466314861567234706630418e-01\n",
       " -1.61643516705185931745026757800979446350535066667217763136874463701186547883258     \n",
       " -2.211489532112809898992816673122202102420614734567756716839558976174689681405829    \n",
       " -7.528123852596415572293967724436996942040472838369156983070945891012722116510311e-01\n",
       " -9.429509522274319075934995076900814562976627393599395017544434546940885307548664e-01\n",
       "  ⋮                                                                                   \n",
       "  5.409500993813889248277311346870098766586319777093224345198602352194164812564081    \n",
       "  5.886357945021753283775785194177243171813645417339633575265921869201543523570539    \n",
       "  6.025995387146967183129843924247093097415391503317727701771952214191555083743857    \n",
       "  6.184731344415129390808625723833748850513005068969495041906065847108170300926217    \n",
       "  6.479816797165921931847593640661020716323645368214187468232714458906867698716218    \n",
       "  6.715081610297709619300327476582497404875660177611965334269574275336162820852747    \n",
       "  6.132687686243101322905588604113825691832804963511235267912303075924212240608212    \n",
       "  6.035061794935864832022909988276902574065562679684350783083771755874275117282862    \n",
       "  6.500179280140319019225334303032446152198368062356616902033745988413223250548801    \n",
       "  6.756134584795552832974261063508020556173798669684321233786139361253889866494937    \n",
       "  6.2833213576005083119418138206701958335122502855119060964557802221478291572361      \n",
       "  5.947175214085436012557368879210775928840851671551885369150924621789141617504601    "
      ]
     },
     "execution_count": 71,
     "metadata": {},
     "output_type": "execute_result"
    }
   ],
   "source": [
    "LDL \\ rhs"
   ]
  },
  {
   "cell_type": "markdown",
   "metadata": {},
   "source": [
    "## Other Packages\n",
    "\n",
    "### Modeling Factilities for Nonlinear Least-Squares Problems\n",
    "\n",
    "\\begin{align*}\n",
    "  \\text{minimize} & \\quad \\tfrac{1}{2} \\|F(x)\\|^2 \\\\\n",
    "  \\text{subject to} & \\quad c_L \\leq c(x) \\leq c_U \\\\\n",
    "  & \\quad \\ell \\leq x \\leq u\n",
    "\\end{align*}\n",
    "\n",
    "* Implemented as a JuMP extension\n",
    "\n",
    "### Go Old School\n",
    "\n",
    "* `QPSReader.jl`: read MPS and QPS files\n",
    "\n",
    "### Factorization of Symmetric Indefinite Linear Systems\n",
    "\n",
    "$$\n",
    "\\begin{bmatrix}\n",
    "  H & A^T \\\\\n",
    "  A & -C\n",
    "\\end{bmatrix}\n",
    "$$\n",
    "\n",
    "* `MUMPS.jl`: sequential or distributed (based on MPI)\n",
    "* `HSL.jl`: MA97 (multi-core) and MA57 (multi-frontal)\n",
    "\n",
    "### Limited-Memory Incomplete Cholesky\n",
    "\n",
    "$$\n",
    "  LL^T = A + E,\n",
    "$$\n",
    "where $\\text{nnz}(L) = \\text{nnz}(A) + np$.\n",
    "\n",
    "* `LimitedLDLFactorizations.jl`: useful to construct preconditioners\n",
    "\n"
   ]
  },
  {
   "cell_type": "code",
   "execution_count": null,
   "metadata": {},
   "outputs": [],
   "source": []
  }
 ],
 "metadata": {
  "@webio": {
   "lastCommId": "b4c80906d1aa45aa83fc96c275710313",
   "lastKernelId": "782a5545-a506-4dfb-90aa-c1da793c5e0b"
  },
  "kernelspec": {
   "display_name": "Julia 0.7.0",
   "language": "julia",
   "name": "julia-0.7"
  },
  "language_info": {
   "file_extension": ".jl",
   "mimetype": "application/julia",
   "name": "julia",
   "version": "0.7.0"
  }
 },
 "nbformat": 4,
 "nbformat_minor": 2
}
