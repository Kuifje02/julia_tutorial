{
 "cells": [
  {
   "cell_type": "markdown",
   "metadata": {
    "slideshow": {
     "slide_type": "slide"
    }
   },
   "source": [
    "## JuMP: a modeling language for Mathematical Optimization\n",
    "\n",
    "Mathieu Besançon  \n",
    "`@matbesancon`  \n",
    "Polytechnique Montréal & INRIA Lille"
   ]
  },
  {
   "cell_type": "markdown",
   "metadata": {
    "slideshow": {
     "slide_type": "slide"
    }
   },
   "source": [
    "## JuMP is...\n",
    "\n",
    "* Embdedded Domain-Specific Language: (E)-DSL\n",
    "* Sitting on top of [MathProgBase.jl](https://github.com/JuliaOpt/MathProgBase.jl) (soon MathOptInterface)\n",
    "* Leveraging solvers doing the \"heavy work\"\n"
   ]
  },
  {
   "cell_type": "markdown",
   "metadata": {
    "slideshow": {
     "slide_type": "slide"
    }
   },
   "source": [
    "## JuMP as a front-end\n",
    "\n",
    "- Syntax abstraction on top of MathProgBase.jl\n",
    "- Solver-independent (as much as possible)\n",
    "- Relying a lot on Julia macros for consice syntax\n",
    "\n",
    "Alternatives:\n",
    "- [Convex.jl](https://github.com/JuliaOpt/Convex.jl) $\\Rightarrow$ Disciplined Convex Optimization\n",
    "- [Parametron.jl](https://github.com/tkoolen/Parametron.jl) $\\Rightarrow$ Parametrized optimization"
   ]
  },
  {
   "cell_type": "code",
   "execution_count": 1,
   "metadata": {
    "slideshow": {
     "slide_type": "slide"
    }
   },
   "outputs": [],
   "source": [
    "using JuMP\n",
    "using Clp: ClpSolver # linear problems\n",
    "using Cbc: CbcSolver # integer linear problems\n",
    "import Random"
   ]
  },
  {
   "cell_type": "markdown",
   "metadata": {
    "slideshow": {
     "slide_type": "slide"
    }
   },
   "source": [
    "## Warm-up: a (0-1) knapsack"
   ]
  },
  {
   "cell_type": "code",
   "execution_count": 2,
   "metadata": {},
   "outputs": [],
   "source": [
    "# problem data\n",
    "Random.seed!(42)\n",
    "const n = 20; const weights = rand(n);\n",
    "const max_weight = 0.25 * n; const item_values = rand(n);"
   ]
  },
  {
   "cell_type": "code",
   "execution_count": 3,
   "metadata": {},
   "outputs": [
    {
     "data": {
      "text/latex": [
       "$$ 0.5331830160438613 x_{1} + 0.4540291355871424 x_{2} + 0.017686826714964354 x_{3} + 0.17293302893695128 x_{4} + 0.9589258763297348 x_{5} + 0.9735659798036858 x_{6} + 0.30386961108678245 x_{7} + 0.17690859963285543 x_{8} + 0.9569158240892588 x_{9} + 0.5842841475628804 x_{10} + 0.9374663045825038 x_{11} + 0.1600060971420918 x_{12} + 0.4229562655081418 x_{13} + 0.602297580266383 x_{14} + 0.3634584219520556 x_{15} + 0.3834911947029529 x_{16} + 0.5929115732384709 x_{17} + 0.745181319290827 x_{18} + 0.26280883523014786 x_{19} + 0.5029521113777486 x_{20} \\leq 5 $$"
      ],
      "text/plain": [
       "0.5331830160438613 x[1] + 0.4540291355871424 x[2] + 0.017686826714964354 x[3] + 0.17293302893695128 x[4] + 0.9589258763297348 x[5] + 0.9735659798036858 x[6] + 0.30386961108678245 x[7] + 0.17690859963285543 x[8] + 0.9569158240892588 x[9] + 0.5842841475628804 x[10] + 0.9374663045825038 x[11] + 0.1600060971420918 x[12] + 0.4229562655081418 x[13] + 0.602297580266383 x[14] + 0.3634584219520556 x[15] + 0.3834911947029529 x[16] + 0.5929115732384709 x[17] + 0.745181319290827 x[18] + 0.26280883523014786 x[19] + 0.5029521113777486 x[20] ≤ 5"
      ]
     },
     "execution_count": 3,
     "metadata": {},
     "output_type": "execute_result"
    }
   ],
   "source": [
    "const knapsack_model = Model(solver = CbcSolver())\n",
    "const x = @variable(knapsack_model, x[1:n], Bin)\n",
    "const capacity_constraint = @constraint(\n",
    "    knapsack_model,\n",
    "    weights' * x <= max_weight\n",
    ")"
   ]
  },
  {
   "cell_type": "code",
   "execution_count": 4,
   "metadata": {
    "slideshow": {
     "slide_type": "-"
    }
   },
   "outputs": [
    {
     "data": {
      "text/latex": [
       "$$ 0.6120496344690995 x_{1} + 0.21088484982656963 x_{2} + 0.16716931951820713 x_{3} + 0.4970812767934871 x_{4} + 0.9694319430590213 x_{5} + 0.08233666746625179 x_{6} + 0.24468287051664506 x_{7} + 0.45241842742658944 x_{8} + 0.763719368415045 x_{9} + 0.28198708251379423 x_{10} + 0.1436376769992096 x_{11} + 0.0048089013907348654 x_{12} + 0.5700851947954328 x_{13} + 0.11519661198817266 x_{14} + 0.2492376990810321 x_{15} + 0.720680036739529 x_{16} + 0.6671472107327354 x_{17} + 0.14174436571017668 x_{18} + 0.8416427796487724 x_{19} + 0.615499883091533 x_{20} $$"
      ],
      "text/plain": [
       "0.6120496344690995 x[1] + 0.21088484982656963 x[2] + 0.16716931951820713 x[3] + 0.4970812767934871 x[4] + 0.9694319430590213 x[5] + 0.08233666746625179 x[6] + 0.24468287051664506 x[7] + 0.45241842742658944 x[8] + 0.763719368415045 x[9] + 0.28198708251379423 x[10] + 0.1436376769992096 x[11] + 0.0048089013907348654 x[12] + 0.5700851947954328 x[13] + 0.11519661198817266 x[14] + 0.2492376990810321 x[15] + 0.720680036739529 x[16] + 0.6671472107327354 x[17] + 0.14174436571017668 x[18] + 0.8416427796487724 x[19] + 0.615499883091533 x[20]"
      ]
     },
     "execution_count": 4,
     "metadata": {},
     "output_type": "execute_result"
    }
   ],
   "source": [
    "@objective(knapsack_model, :Max, item_values' * x)"
   ]
  },
  {
   "cell_type": "code",
   "execution_count": 5,
   "metadata": {
    "slideshow": {
     "slide_type": "subslide"
    }
   },
   "outputs": [
    {
     "data": {
      "text/plain": [
       ":Optimal"
      ]
     },
     "execution_count": 5,
     "metadata": {},
     "output_type": "execute_result"
    }
   ],
   "source": [
    "status = solve(knapsack_model)"
   ]
  },
  {
   "cell_type": "code",
   "execution_count": 6,
   "metadata": {},
   "outputs": [
    {
     "data": {
      "text/plain": [
       "20-element Array{Int64,1}:\n",
       " 1\n",
       " 0\n",
       " 1\n",
       " 1\n",
       " 1\n",
       " 0\n",
       " 0\n",
       " 1\n",
       " 1\n",
       " 0\n",
       " 0\n",
       " 0\n",
       " 1\n",
       " 0\n",
       " 0\n",
       " 1\n",
       " 1\n",
       " 0\n",
       " 1\n",
       " 1"
      ]
     },
     "execution_count": 6,
     "metadata": {},
     "output_type": "execute_result"
    }
   ],
   "source": [
    "const solution_items = [round(Int,v) for v in getvalue(x)]"
   ]
  },
  {
   "cell_type": "code",
   "execution_count": 7,
   "metadata": {
    "slideshow": {
     "slide_type": "subslide"
    }
   },
   "outputs": [
    {
     "data": {
      "text/plain": [
       "11"
      ]
     },
     "execution_count": 7,
     "metadata": {},
     "output_type": "execute_result"
    }
   ],
   "source": [
    "sum(solution_items)"
   ]
  },
  {
   "cell_type": "markdown",
   "metadata": {
    "slideshow": {
     "slide_type": "slide"
    }
   },
   "source": [
    "## (Greatest?) Strength of JuMP\n",
    "\n",
    "This is just just Julia code. Put it in functions, combine it with other packages."
   ]
  },
  {
   "cell_type": "code",
   "execution_count": 8,
   "metadata": {},
   "outputs": [
    {
     "data": {
      "text/plain": [
       "solve_knapsack"
      ]
     },
     "execution_count": 8,
     "metadata": {},
     "output_type": "execute_result"
    }
   ],
   "source": [
    "\"\"\"\n",
    "Solve a linear knapsack problem and return a tuple (x, λ)\n",
    "with x the solution and λ the dual of the constraint\n",
    "\"\"\"\n",
    "function solve_knapsack(weights, max_weight, item_values)\n",
    "    m = Model(solver = ClpSolver())\n",
    "    n = length(weights)\n",
    "    x = @variable(m, 0 <= x[1:n] <= 1)\n",
    "    cstr = @constraint(m, sum(weights .* x) <= max_weight)\n",
    "    @objective(m, Max, sum(x .* item_values))\n",
    "    status = solve(m)\n",
    "    if status != :Optimal\n",
    "       error(\"Unexpected status $status\")\n",
    "    end\n",
    "    λ = getdual(cstr)\n",
    "    return (getvalue(x), λ)\n",
    "end"
   ]
  },
  {
   "cell_type": "code",
   "execution_count": 9,
   "metadata": {
    "slideshow": {
     "slide_type": "subslide"
    }
   },
   "outputs": [
    {
     "data": {
      "text/plain": [
       "([1.0, 1.0, 0.371429, 0.0], 0.2312982251631973)"
      ]
     },
     "execution_count": 9,
     "metadata": {},
     "output_type": "execute_result"
    }
   ],
   "source": [
    "solve_knapsack([1.0,2.0,3.5,4.1], 4.3, rand(4))"
   ]
  },
  {
   "cell_type": "markdown",
   "metadata": {
    "slideshow": {
     "slide_type": "subslide"
    }
   },
   "source": [
    "## Let's try to break things\n",
    "\n",
    "Negative max_weight $\\Rightarrow$ should error"
   ]
  },
  {
   "cell_type": "code",
   "execution_count": 10,
   "metadata": {},
   "outputs": [
    {
     "name": "stderr",
     "output_type": "stream",
     "text": [
      "┌ Warning: Not solved to optimality, status: Infeasible\n",
      "└ @ JuMP /home/mbesancon/.julia/packages/JuMP/Xvn0n/src/solvers.jl:212\n"
     ]
    },
    {
     "ename": "ErrorException",
     "evalue": "Unexpected status Infeasible",
     "output_type": "error",
     "traceback": [
      "Unexpected status Infeasible",
      "",
      "Stacktrace:",
      " [1] error(::String) at ./error.jl:33",
      " [2] macro expansion at /home/mbesancon/.julia/packages/JuMP/Xvn0n/src/macros.jl:319 [inlined]",
      " [3] solve_knapsack(::Array{Float64,1}, ::Float64, ::Array{Float64,1}) at ./In[8]:8",
      " [4] top-level scope at In[10]:1"
     ]
    }
   ],
   "source": [
    "solve_knapsack([1.0,2.0,3.5,4.1], -1.0, rand(4))"
   ]
  },
  {
   "cell_type": "markdown",
   "metadata": {
    "slideshow": {
     "slide_type": "slide"
    }
   },
   "source": [
    "## JuMP extensions: example\n",
    "\n",
    "Since JuMP is just Julia code, people can build packages on top, and they did!"
   ]
  },
  {
   "cell_type": "code",
   "execution_count": 11,
   "metadata": {},
   "outputs": [
    {
     "data": {
      "text/plain": [
       ":Optimal"
      ]
     },
     "execution_count": 11,
     "metadata": {},
     "output_type": "execute_result"
    }
   ],
   "source": [
    "using MultiJuMP: SingleObjective, MultiModel, getMultiData\n",
    "\n",
    "const mmodel = MultiModel(solver = ClpSolver(), linear = true)\n",
    "const y = @variable(mmodel, 0 <= y <= 10.0)\n",
    "const z = @variable(mmodel, 0 <= z <= 10.0)\n",
    "@constraint(mmodel, y + z <= 15.0)\n",
    "\n",
    "# objectives\n",
    "const exp_obj1 = @expression(mmodel, -y +0.05 * z)\n",
    "const exp_obj2 = @expression(mmodel, 0.05 * y - z)\n",
    "const obj1 = SingleObjective(exp_obj1)\n",
    "const obj2 = SingleObjective(exp_obj2)\n",
    "\n",
    "# # setting objectives in the data\n",
    "const multim = getMultiData(mmodel)\n",
    "multim.objectives = [obj1, obj2]\n",
    "\n",
    "solve(mmodel, method = :WS)"
   ]
  },
  {
   "cell_type": "code",
   "execution_count": 12,
   "metadata": {
    "slideshow": {
     "slide_type": "subslide"
    }
   },
   "outputs": [
    {
     "data": {
      "image/png": "[encoded data removed]",
      "text/plain": [
       "PyPlot.Figure(PyObject <matplotlib.figure.Figure object at 0x7fdd8ce8add8>)"
      ]
     },
     "metadata": {},
     "output_type": "display_data"
    }
   ],
   "source": [
    "import PyPlot\n",
    "\n",
    "const f1_values = [v[1] for v in multim.paretofront] \n",
    "const f2_values = [v[2] for v in multim.paretofront] \n",
    "\n",
    "PyPlot.plot(f1_values, f2_values, \"o\")\n",
    "PyPlot.xlabel(\"f_1\")\n",
    "PyPlot.xlabel(\"f_2\")\n",
    "PyPlot.title(\"Pareto front\")\n",
    "PyPlot.grid()"
   ]
  },
  {
   "cell_type": "markdown",
   "metadata": {
    "slideshow": {
     "slide_type": "slide"
    }
   },
   "source": [
    "## Quadratic optimization\n",
    "\n",
    "- JuMP: mostly constrained, structured optimization\n",
    "- Supports some forms of non-linear optimization  \n",
    "\n",
    "Example: solving a regularized linear regression"
   ]
  },
  {
   "cell_type": "code",
   "execution_count": 13,
   "metadata": {},
   "outputs": [],
   "source": [
    "Random.seed!(42)\n",
    "const reg_xs = 100. .* rand(200);\n",
    "const reg_ys = 5. .* rand(200) .+ reg_xs;"
   ]
  },
  {
   "cell_type": "code",
   "execution_count": 14,
   "metadata": {
    "slideshow": {
     "slide_type": "subslide"
    }
   },
   "outputs": [
    {
     "data": {
      "image/png": "[encoded data removed]",
      "text/plain": [
       "PyPlot.Figure(PyObject <matplotlib.figure.Figure object at 0x7fdd876ba128>)"
      ]
     },
     "metadata": {},
     "output_type": "display_data"
    },
    {
     "data": {
      "text/plain": [
       "1-element Array{PyCall.PyObject,1}:\n",
       " PyObject <matplotlib.lines.Line2D object at 0x7fdd8524dba8>"
      ]
     },
     "execution_count": 14,
     "metadata": {},
     "output_type": "execute_result"
    }
   ],
   "source": [
    "PyPlot.plot(reg_xs, reg_ys, \"+\")"
   ]
  },
  {
   "cell_type": "code",
   "execution_count": 15,
   "metadata": {
    "slideshow": {
     "slide_type": "subslide"
    }
   },
   "outputs": [
    {
     "data": {
      "text/plain": [
       "constrained_opt"
      ]
     },
     "execution_count": 15,
     "metadata": {},
     "output_type": "execute_result"
    }
   ],
   "source": [
    "using Ipopt: IpoptSolver\n",
    "\n",
    "\"\"\"\n",
    "Regularized linear regression of ys vs xs\n",
    "\"\"\"\n",
    "function constrained_opt(xs, ys, λ = 0.1)\n",
    "    n = length(xs)\n",
    "    nlp_model = Model(solver = IpoptSolver())\n",
    "    @variable(nlp_model, -λ <= a <= λ)\n",
    "    @objective(nlp_model, Min, sum((a * xs[i] - ys[i])^2 for i in 1:n))\n",
    "    solve(nlp_model)\n",
    "    return getvalue(a)\n",
    "end"
   ]
  },
  {
   "cell_type": "code",
   "execution_count": 16,
   "metadata": {
    "slideshow": {
     "slide_type": "subslide"
    }
   },
   "outputs": [
    {
     "data": {
      "image/png": "[encoded data removed]",
      "text/plain": [
       "PyPlot.Figure(PyObject <matplotlib.figure.Figure object at 0x7fdd85607c50>)"
      ]
     },
     "metadata": {},
     "output_type": "display_data"
    },
    {
     "name": "stdout",
     "output_type": "stream",
     "text": [
      "\n",
      "******************************************************************************\n",
      "This program contains Ipopt, a library for large-scale nonlinear optimization.\n",
      " Ipopt is released as open source code under the Eclipse Public License (EPL).\n",
      "         For more information visit http://projects.coin-or.org/Ipopt\n",
      "******************************************************************************\n",
      "\n",
      "This is Ipopt version 3.12.8, running with linear solver mumps.\n",
      "NOTE: Other linear solvers might be more efficient (see Ipopt documentation).\n",
      "\n",
      "Number of nonzeros in equality constraint Jacobian...:        0\n",
      "Number of nonzeros in inequality constraint Jacobian.:        0\n",
      "Number of nonzeros in Lagrangian Hessian.............:      200\n",
      "\n",
      "Total number of variables............................:        1\n",
      "                     variables with only lower bounds:        0\n",
      "                variables with lower and upper bounds:        1\n",
      "                     variables with only upper bounds:        0\n",
      "Total number of equality constraints.................:        0\n",
      "Total number of inequality constraints...............:        0\n",
      "        inequality constraints with only lower bounds:        0\n",
      "   inequality constraints with lower and upper bounds:        0\n",
      "        inequality constraints with only upper bounds:        0\n",
      "\n",
      "iter    objective    inf_pr   inf_du lg(mu)  ||d||  lg(rg) alpha_du alpha_pr  ls\n",
      "   0  0.0000000e+00 0.00e+00 1.00e+02  -1.0 0.00e+00    -  0.00e+00 0.00e+00   0\n",
      "   1 -6.5970457e+04 0.00e+00 9.31e+01  -1.0 7.34e-01    -  7.23e-02 6.74e-02f  1\n",
      "   2 -6.5004389e+04 0.00e+00 2.21e+00  -1.0 2.38e-02    -  1.00e+00 3.12e-02f  6\n",
      "   3 -6.5264212e+04 0.00e+00 4.26e-14  -1.0 2.00e-04    -  1.00e+00 1.00e+00f  1\n",
      "   4 -6.6566924e+04 0.00e+00 9.95e-14  -2.5 1.00e-03    -  1.00e+00 1.00e+00f  1\n",
      "   5 -6.6618350e+04 0.00e+00 4.26e-14  -3.8 3.96e-05    -  1.00e+00 1.00e+00f  1\n",
      "   6 -6.6620390e+04 0.00e+00 2.84e-14  -5.7 1.57e-06    -  1.00e+00 1.00e+00f  1\n",
      "   7 -6.6620415e+04 0.00e+00 1.42e-14  -8.6 1.94e-08    -  1.00e+00 1.00e+00f  1\n",
      "\n",
      "Number of Iterations....: 7\n",
      "\n",
      "                                   (scaled)                 (unscaled)\n",
      "Objective...............:  -4.8798033408357675e+00   -6.6620415185644568e+04\n",
      "Dual infeasibility......:   1.4210854715202004e-14    1.9401049082184622e-10\n",
      "Constraint violation....:   0.0000000000000000e+00    0.0000000000000000e+00\n",
      "Complementarity.........:   2.5062962895538251e-09    3.4216645164991247e-05\n",
      "Overall NLP error.......:   2.5062962895538251e-09    3.4216645164991247e-05\n",
      "\n",
      "\n",
      "Number of objective function evaluations             = 17\n",
      "Number of objective gradient evaluations             = 8\n",
      "Number of equality constraint evaluations            = 0\n",
      "Number of inequality constraint evaluations          = 0\n",
      "Number of equality constraint Jacobian evaluations   = 0\n",
      "Number of inequality constraint Jacobian evaluations = 0\n",
      "Number of Lagrangian Hessian evaluations             = 7\n",
      "Total CPU secs in IPOPT (w/o function evaluations)   =      0.144\n",
      "Total CPU secs in NLP function evaluations           =      0.072\n",
      "\n",
      "EXIT: Optimal Solution Found.\n",
      "This is Ipopt version 3.12.8, running with linear solver mumps.\n",
      "NOTE: Other linear solvers might be more efficient (see Ipopt documentation).\n",
      "\n",
      "Number of nonzeros in equality constraint Jacobian...:        0\n",
      "Number of nonzeros in inequality constraint Jacobian.:        0\n",
      "Number of nonzeros in Lagrangian Hessian.............:      200\n",
      "\n",
      "Total number of variables............................:        1\n",
      "                     variables with only lower bounds:        0\n",
      "                variables with lower and upper bounds:        1\n",
      "                     variables with only upper bounds:        0\n",
      "Total number of equality constraints.................:        0\n",
      "Total number of inequality constraints...............:        0\n",
      "        inequality constraints with only lower bounds:        0\n",
      "   inequality constraints with lower and upper bounds:        0\n",
      "        inequality constraints with only upper bounds:        0\n",
      "\n",
      "iter    objective    inf_pr   inf_du lg(mu)  ||d||  lg(rg) alpha_du alpha_pr  ls\n",
      "   0  0.0000000e+00 0.00e+00 1.00e+02  -1.0 0.00e+00    -  0.00e+00 0.00e+00   0\n",
      "   1 -2.4458200e+05 0.00e+00 7.92e+01  -1.0 9.42e-01    -  1.90e-01 2.10e-01f  1\n",
      "   2 -2.4567560e+05 0.00e+00 2.92e+00  -1.0 3.13e-02    -  1.00e+00 3.16e-02f  2\n",
      "   3 -2.4542074e+05 0.00e+00 9.95e-14  -1.0 2.31e-04    -  1.00e+00 1.00e+00f  1\n",
      "   4 -2.4674546e+05 0.00e+00 4.26e-14  -2.5 1.20e-03    -  1.00e+00 1.00e+00f  1\n",
      "   5 -2.4678791e+05 0.00e+00 1.42e-14  -3.8 3.85e-05    -  1.00e+00 1.00e+00f  1\n",
      "   6 -2.4678995e+05 0.00e+00 1.42e-14  -5.7 1.84e-06    -  1.00e+00 1.00e+00f  1\n",
      "   7 -2.4678997e+05 0.00e+00 2.84e-14  -8.6 2.28e-08    -  1.00e+00 1.00e+00f  1\n",
      "\n",
      "Number of Iterations....: 7\n",
      "\n",
      "                                   (scaled)                 (unscaled)\n",
      "Objective...............:  -1.8076839067915518e+01   -2.4678997079057552e+05\n",
      "Dual infeasibility......:   2.8421709430404007e-14    3.8802098164369245e-10\n",
      "Constraint violation....:   0.0000000000000000e+00    0.0000000000000000e+00\n",
      "Complementarity.........:   2.5060577768270418e-09    3.4213388923750457e-05\n",
      "Overall NLP error.......:   2.5060577768270418e-09    3.4213388923750457e-05\n",
      "\n",
      "\n",
      "Number of objective function evaluations             = 13\n",
      "Number of objective gradient evaluations             = 8\n",
      "Number of equality constraint evaluations            = 0\n",
      "Number of inequality constraint evaluations          = 0\n",
      "Number of equality constraint Jacobian evaluations   = 0\n",
      "Number of inequality constraint Jacobian evaluations = 0\n",
      "Number of Lagrangian Hessian evaluations             = 7\n",
      "Total CPU secs in IPOPT (w/o function evaluations)   =      0.004\n",
      "Total CPU secs in NLP function evaluations           =      0.000\n",
      "\n",
      "EXIT: Optimal Solution Found.\n",
      "This is Ipopt version 3.12.8, running with linear solver mumps.\n",
      "NOTE: Other linear solvers might be more efficient (see Ipopt documentation).\n",
      "\n",
      "Number of nonzeros in equality constraint Jacobian...:        0\n",
      "Number of nonzeros in inequality constraint Jacobian.:        0\n",
      "Number of nonzeros in Lagrangian Hessian.............:      200\n",
      "\n",
      "Total number of variables............................:        1\n",
      "                     variables with only lower bounds:        0\n",
      "                variables with lower and upper bounds:        1\n",
      "                     variables with only upper bounds:        0\n",
      "Total number of equality constraints.................:        0\n",
      "Total number of inequality constraints...............:        0\n",
      "        inequality constraints with only lower bounds:        0\n",
      "   inequality constraints with lower and upper bounds:        0\n",
      "        inequality constraints with only upper bounds:        0\n",
      "\n",
      "iter    objective    inf_pr   inf_du lg(mu)  ||d||  lg(rg) alpha_du alpha_pr  ls\n",
      "   0  0.0000000e+00 0.00e+00 1.00e+02  -1.0 0.00e+00    -  0.00e+00 0.00e+00   0\n",
      "   1 -5.1495606e+05 0.00e+00 5.10e+01  -1.0 9.98e-01    -  3.54e-01 4.96e-01f  1\n",
      "   2 -5.1672266e+05 0.00e+00 7.97e+00  -1.0 8.53e-02    -  1.00e+00 2.90e-02f  2\n",
      "   3 -5.1723345e+05 0.00e+00 7.11e-15  -1.0 7.18e-04    -  1.00e+00 1.00e+00f  1\n",
      "   4 -5.1847174e+05 0.00e+00 3.55e-14  -2.5 1.74e-03    -  1.00e+00 1.00e+00f  1\n",
      "   5 -5.1851460e+05 0.00e+00 2.13e-14  -3.8 6.05e-05    -  1.00e+00 1.00e+00f  1\n",
      "   6 -5.1851664e+05 0.00e+00 3.55e-14  -5.7 2.87e-06    -  1.00e+00 1.00e+00f  1\n",
      "   7 -5.1851666e+05 0.00e+00 1.35e-13  -8.6 3.55e-08    -  1.00e+00 1.00e+00f  1\n",
      "\n",
      "Number of Iterations....: 7\n",
      "\n",
      "                                   (scaled)                 (unscaled)\n",
      "Objective...............:  -3.7980239658814519e+01   -5.1851666106018680e+05\n",
      "Dual infeasibility......:   1.3500311979441904e-13    1.8430996628075392e-09\n",
      "Constraint violation....:   0.0000000000000000e+00    0.0000000000000000e+00\n",
      "Complementarity.........:   2.5060890181964412e-09    3.4213815439504263e-05\n",
      "Overall NLP error.......:   2.5060890181964412e-09    3.4213815439504263e-05\n",
      "\n",
      "\n",
      "Number of objective function evaluations             = 13\n",
      "Number of objective gradient evaluations             = 8\n",
      "Number of equality constraint evaluations            = 0\n",
      "Number of inequality constraint evaluations          = 0\n",
      "Number of equality constraint Jacobian evaluations   = 0\n",
      "Number of inequality constraint Jacobian evaluations = 0\n",
      "Number of Lagrangian Hessian evaluations             = 7\n",
      "Total CPU secs in IPOPT (w/o function evaluations)   =      0.004\n",
      "Total CPU secs in NLP function evaluations           =      0.000\n",
      "\n",
      "EXIT: Optimal Solution Found.\n",
      "This is Ipopt version 3.12.8, running with linear solver mumps.\n",
      "NOTE: Other linear solvers might be more efficient (see Ipopt documentation).\n",
      "\n",
      "Number of nonzeros in equality constraint Jacobian...:        0\n",
      "Number of nonzeros in inequality constraint Jacobian.:        0\n",
      "Number of nonzeros in Lagrangian Hessian.............:      200\n",
      "\n",
      "Total number of variables............................:        1\n",
      "                     variables with only lower bounds:        0\n",
      "                variables with lower and upper bounds:        1\n",
      "                     variables with only upper bounds:        0\n",
      "Total number of equality constraints.................:        0\n",
      "Total number of inequality constraints...............:        0\n",
      "        inequality constraints with only lower bounds:        0\n",
      "   inequality constraints with lower and upper bounds:        0\n",
      "        inequality constraints with only upper bounds:        0\n",
      "\n",
      "iter    objective    inf_pr   inf_du lg(mu)  ||d||  lg(rg) alpha_du alpha_pr  ls\n",
      "   0  0.0000000e+00 0.00e+00 1.00e+02  -1.0 0.00e+00    -  0.00e+00 0.00e+00   0\n",
      "   1 -7.0824901e+05 0.00e+00 3.75e+00  -1.0 1.02e+00    -  5.16e-01 9.72e-01f  1\n",
      "   2 -7.0730865e+05 0.00e+00 1.22e+00  -1.0 2.54e-02    -  1.00e+00 5.00e-01f  2\n",
      "   3 -7.0762833e+05 0.00e+00 2.22e-14  -1.0 4.01e-03    -  1.00e+00 1.00e+00f  1\n",
      "   4 -7.0856088e+05 0.00e+00 5.33e-15  -2.5 1.37e-02    -  1.00e+00 1.00e+00f  1\n",
      "   5 -7.0881109e+05 0.00e+00 4.44e-15  -3.8 4.46e-03    -  1.00e+00 1.00e+00f  1\n",
      "   6 -7.0883679e+05 0.00e+00 8.84e-14  -3.8 4.86e-04    -  1.00e+00 1.00e+00f  1\n",
      "   7 -7.0883913e+05 0.00e+00 4.80e-14  -5.7 4.45e-05    -  1.00e+00 1.00e+00f  1\n",
      "   8 -7.0883916e+05 0.00e+00 4.84e-14  -8.6 5.30e-07    -  1.00e+00 1.00e+00f  1\n",
      "\n",
      "Number of Iterations....: 8\n",
      "\n",
      "                                   (scaled)                 (unscaled)\n",
      "Objective...............:  -5.1920956604329994e+01   -7.0883915687140659e+05\n",
      "Dual infeasibility......:   4.8405723873656825e-14    6.6084823436191375e-10\n",
      "Constraint violation....:   0.0000000000000000e+00    0.0000000000000000e+00\n",
      "Complementarity.........:   2.5333965186287308e-09    3.4586624933947890e-05\n",
      "Overall NLP error.......:   2.5333965186287308e-09    3.4586624933947890e-05\n",
      "\n",
      "\n",
      "Number of objective function evaluations             = 14\n",
      "Number of objective gradient evaluations             = 9\n",
      "Number of equality constraint evaluations            = 0\n",
      "Number of inequality constraint evaluations          = 0\n",
      "Number of equality constraint Jacobian evaluations   = 0\n",
      "Number of inequality constraint Jacobian evaluations = 0\n",
      "Number of Lagrangian Hessian evaluations             = 8\n",
      "Total CPU secs in IPOPT (w/o function evaluations)   =      0.004\n",
      "Total CPU secs in NLP function evaluations           =      0.000\n",
      "\n",
      "EXIT: Optimal Solution Found.\n",
      "This is Ipopt version 3.12.8, running with linear solver mumps.\n",
      "NOTE: Other linear solvers might be more efficient (see Ipopt documentation).\n",
      "\n",
      "Number of nonzeros in equality constraint Jacobian...:        0\n",
      "Number of nonzeros in inequality constraint Jacobian.:        0\n",
      "Number of nonzeros in Lagrangian Hessian.............:      200\n",
      "\n",
      "Total number of variables............................:        1\n",
      "                     variables with only lower bounds:        0\n",
      "                variables with lower and upper bounds:        1\n",
      "                     variables with only upper bounds:        0\n",
      "Total number of equality constraints.................:        0\n",
      "Total number of inequality constraints...............:        0\n",
      "        inequality constraints with only lower bounds:        0\n",
      "   inequality constraints with lower and upper bounds:        0\n",
      "        inequality constraints with only upper bounds:        0\n",
      "\n",
      "iter    objective    inf_pr   inf_du lg(mu)  ||d||  lg(rg) alpha_du alpha_pr  ls\n",
      "   0  0.0000000e+00 0.00e+00 1.00e+02  -1.0 0.00e+00    -  0.00e+00 0.00e+00   0\n",
      "   1 -7.0981177e+05 0.00e+00 3.34e-01  -1.0 1.03e+00    -  6.76e-01 1.00e+00f  1\n",
      "   2 -7.0988694e+05 0.00e+00 6.74e-14  -1.7 1.05e-02    -  1.00e+00 1.00e+00f  1\n",
      "   3 -7.0988697e+05 0.00e+00 1.17e-13  -3.8 2.24e-04    -  1.00e+00 1.00e+00f  1\n",
      "   4 -7.0988697e+05 0.00e+00 2.07e-14  -5.7 1.17e-06    -  1.00e+00 1.00e+00f  1\n",
      "   5 -7.0988697e+05 0.00e+00 2.33e-14  -8.6 1.37e-08    -  1.00e+00 1.00e+00f  1\n",
      "\n",
      "Number of Iterations....: 5\n",
      "\n",
      "                                   (scaled)                 (unscaled)\n",
      "Objective...............:  -5.1997706725570602e+01   -7.0988697060189233e+05\n",
      "Dual infeasibility......:   2.3283984677383240e-14    3.1787935251460041e-10\n",
      "Constraint violation....:   0.0000000000000000e+00    0.0000000000000000e+00\n",
      "Complementarity.........:   2.5059297713855977e-09    3.4211641358314027e-05\n",
      "Overall NLP error.......:   2.5059297713855977e-09    3.4211641358314027e-05\n",
      "\n",
      "\n",
      "Number of objective function evaluations             = 6\n",
      "Number of objective gradient evaluations             = 6\n",
      "Number of equality constraint evaluations            = 0\n",
      "Number of inequality constraint evaluations          = 0\n",
      "Number of equality constraint Jacobian evaluations   = 0\n",
      "Number of inequality constraint Jacobian evaluations = 0\n",
      "Number of Lagrangian Hessian evaluations             = 5\n",
      "Total CPU secs in IPOPT (w/o function evaluations)   =      0.000\n",
      "Total CPU secs in NLP function evaluations           =      0.000\n",
      "\n",
      "EXIT: Optimal Solution Found.\n",
      "This is Ipopt version 3.12.8, running with linear solver mumps.\n",
      "NOTE: Other linear solvers might be more efficient (see Ipopt documentation).\n",
      "\n",
      "Number of nonzeros in equality constraint Jacobian...:        0\n",
      "Number of nonzeros in inequality constraint Jacobian.:        0\n",
      "Number of nonzeros in Lagrangian Hessian.............:      200\n",
      "\n",
      "Total number of variables............................:        1\n",
      "                     variables with only lower bounds:        0\n",
      "                variables with lower and upper bounds:        1\n",
      "                     variables with only upper bounds:        0\n",
      "Total number of equality constraints.................:        0\n",
      "Total number of inequality constraints...............:        0\n",
      "        inequality constraints with only lower bounds:        0\n",
      "   inequality constraints with lower and upper bounds:        0\n",
      "        inequality constraints with only upper bounds:        0\n",
      "\n",
      "iter    objective    inf_pr   inf_du lg(mu)  ||d||  lg(rg) alpha_du alpha_pr  ls\n",
      "   0  0.0000000e+00 0.00e+00 1.00e+02  -1.0 0.00e+00    -  0.00e+00 0.00e+00   0\n",
      "   1 -7.0985332e+05 0.00e+00 1.69e-01  -1.0 1.03e+00    -  7.55e-01 1.00e+00f  1\n",
      "   2 -7.0988697e+05 0.00e+00 8.04e-14  -1.7 7.09e-03    -  1.00e+00 1.00e+00f  1\n",
      "   3 -7.0988697e+05 0.00e+00 1.52e-14  -3.8 7.38e-05    -  1.00e+00 1.00e+00f  1\n",
      "   4 -7.0988697e+05 0.00e+00 9.53e-14  -5.7 4.11e-07    -  1.00e+00 1.00e+00f  1\n",
      "   5 -7.0988697e+05 0.00e+00 2.42e-07  -8.6 5.03e-09    -  1.00e+00 5.00e-01f  2\n",
      "   6 -7.0988697e+05 0.00e+00 6.07e-14  -8.6 2.52e-09    -  1.00e+00 1.00e+00f  1\n",
      "\n",
      "Number of Iterations....: 6\n",
      "\n",
      "                                   (scaled)                 (unscaled)\n",
      "Objective...............:  -5.1997706725570453e+01   -7.0988697060189024e+05\n",
      "Dual infeasibility......:   6.0697631160811088e-14    8.2866072795994767e-10\n",
      "Constraint violation....:   0.0000000000000000e+00    0.0000000000000000e+00\n",
      "Complementarity.........:   2.5059035596800676e-09    3.4211283508912488e-05\n",
      "Overall NLP error.......:   2.5059035596800676e-09    3.4211283508912488e-05\n",
      "\n",
      "\n",
      "Number of objective function evaluations             = 12\n",
      "Number of objective gradient evaluations             = 7\n",
      "Number of equality constraint evaluations            = 0\n",
      "Number of inequality constraint evaluations          = 0\n",
      "Number of equality constraint Jacobian evaluations   = 0\n",
      "Number of inequality constraint Jacobian evaluations = 0\n",
      "Number of Lagrangian Hessian evaluations             = 6\n",
      "Total CPU secs in IPOPT (w/o function evaluations)   =      0.004\n",
      "Total CPU secs in NLP function evaluations           =      0.000\n",
      "\n",
      "EXIT: Optimal Solution Found.\n"
     ]
    },
    {
     "data": {
      "text/plain": [
       "PyObject <matplotlib.legend.Legend object at 0x7fdd85385c50>"
      ]
     },
     "execution_count": 16,
     "metadata": {},
     "output_type": "execute_result"
    }
   ],
   "source": [
    "const reg_coeff = [0.05, 0.2, 0.5, 1.0, 2.0, 3.0]\n",
    "const slopes = [constrained_opt(reg_xs, reg_ys, λ) for λ in reg_coeff]\n",
    "\n",
    "PyPlot.figure()\n",
    "PyPlot.plot(reg_xs, reg_ys, \"+\")\n",
    "PyPlot.grid()\n",
    "\n",
    "for (a, λ) in zip(slopes, reg_coeff)\n",
    "    PyPlot.plot([0.0, 100.0], [0.0, 100.0 * a], label = \"λ = $λ\")\n",
    "end\n",
    "PyPlot.legend()"
   ]
  },
  {
   "cell_type": "markdown",
   "metadata": {
    "slideshow": {
     "slide_type": "slide"
    }
   },
   "source": [
    "## Other forms\n",
    "\n",
    "Support for:\n",
    "- Second-order conic constrains: `@SOCConstraint`\n",
    "- Semi-definite constraints: `@SDconstraint`\n",
    "- General non-linear optimization: `@NLconstraint` - `@NLobjective`\n",
    "\n",
    "More coming with the MathOptInterface interface"
   ]
  },
  {
   "cell_type": "markdown",
   "metadata": {
    "slideshow": {
     "slide_type": "slide"
    }
   },
   "source": [
    "## Q&A\n",
    "\n",
    "```\n",
    "mathieu.besancon@polymtl.ca\n",
    "```\n"
   ]
  }
 ],
 "metadata": {
  "kernelspec": {
   "display_name": "Julia 1.0.0",
   "language": "julia",
   "name": "julia-1.0"
  },
  "language_info": {
   "file_extension": ".jl",
   "mimetype": "application/julia",
   "name": "julia",
   "version": "1.0.0"
  }
 },
 "nbformat": 4,
 "nbformat_minor": 2
}
